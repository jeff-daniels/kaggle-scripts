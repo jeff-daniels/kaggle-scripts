{
 "cells": [
  {
   "cell_type": "markdown",
   "metadata": {},
   "source": [
    "## Intro to Data Analysis Project: Investigate a Dataset \n",
    "### Titanic Data\n",
    "\n",
    "#### Prepared by:\n",
    "Jeff Daniels  \n",
    "jeffrey.arthur.daniels@gmail.com  \n",
    "23 August 2017"
   ]
  },
  {
   "cell_type": "markdown",
   "metadata": {},
   "source": [
    "### Background:\n",
    "\n",
    "The data I will be analyzing is the Kaggle \"Titanic: Machine Learning from Disaster\" training set.  This data describes the passengers travelling on the Titanic when it sunk.  Let us load the data and take a quick look at it."
   ]
  },
  {
   "cell_type": "code",
   "execution_count": 3,
   "metadata": {},
   "outputs": [
    {
     "name": "stderr",
     "output_type": "stream",
     "text": [
      "/home/jeff/anaconda3/lib/python3.6/importlib/_bootstrap.py:219: RuntimeWarning: numpy.dtype size changed, may indicate binary incompatibility. Expected 96, got 88\n",
      "  return f(*args, **kwds)\n",
      "/home/jeff/anaconda3/lib/python3.6/importlib/_bootstrap.py:219: RuntimeWarning: numpy.dtype size changed, may indicate binary incompatibility. Expected 96, got 88\n",
      "  return f(*args, **kwds)\n"
     ]
    },
    {
     "data": {
      "text/html": [
       "<div>\n",
       "<style scoped>\n",
       "    .dataframe tbody tr th:only-of-type {\n",
       "        vertical-align: middle;\n",
       "    }\n",
       "\n",
       "    .dataframe tbody tr th {\n",
       "        vertical-align: top;\n",
       "    }\n",
       "\n",
       "    .dataframe thead th {\n",
       "        text-align: right;\n",
       "    }\n",
       "</style>\n",
       "<table border=\"1\" class=\"dataframe\">\n",
       "  <thead>\n",
       "    <tr style=\"text-align: right;\">\n",
       "      <th></th>\n",
       "      <th>PassengerId</th>\n",
       "      <th>Survived</th>\n",
       "      <th>Pclass</th>\n",
       "      <th>Name</th>\n",
       "      <th>Sex</th>\n",
       "      <th>Age</th>\n",
       "      <th>SibSp</th>\n",
       "      <th>Parch</th>\n",
       "      <th>Ticket</th>\n",
       "      <th>Fare</th>\n",
       "      <th>Cabin</th>\n",
       "      <th>Embarked</th>\n",
       "    </tr>\n",
       "  </thead>\n",
       "  <tbody>\n",
       "    <tr>\n",
       "      <th>0</th>\n",
       "      <td>1</td>\n",
       "      <td>0</td>\n",
       "      <td>3</td>\n",
       "      <td>Braund, Mr. Owen Harris</td>\n",
       "      <td>male</td>\n",
       "      <td>22.0</td>\n",
       "      <td>1</td>\n",
       "      <td>0</td>\n",
       "      <td>A/5 21171</td>\n",
       "      <td>7.2500</td>\n",
       "      <td>NaN</td>\n",
       "      <td>S</td>\n",
       "    </tr>\n",
       "    <tr>\n",
       "      <th>1</th>\n",
       "      <td>2</td>\n",
       "      <td>1</td>\n",
       "      <td>1</td>\n",
       "      <td>Cumings, Mrs. John Bradley (Florence Briggs Th...</td>\n",
       "      <td>female</td>\n",
       "      <td>38.0</td>\n",
       "      <td>1</td>\n",
       "      <td>0</td>\n",
       "      <td>PC 17599</td>\n",
       "      <td>71.2833</td>\n",
       "      <td>C85</td>\n",
       "      <td>C</td>\n",
       "    </tr>\n",
       "    <tr>\n",
       "      <th>2</th>\n",
       "      <td>3</td>\n",
       "      <td>1</td>\n",
       "      <td>3</td>\n",
       "      <td>Heikkinen, Miss. Laina</td>\n",
       "      <td>female</td>\n",
       "      <td>26.0</td>\n",
       "      <td>0</td>\n",
       "      <td>0</td>\n",
       "      <td>STON/O2. 3101282</td>\n",
       "      <td>7.9250</td>\n",
       "      <td>NaN</td>\n",
       "      <td>S</td>\n",
       "    </tr>\n",
       "    <tr>\n",
       "      <th>3</th>\n",
       "      <td>4</td>\n",
       "      <td>1</td>\n",
       "      <td>1</td>\n",
       "      <td>Futrelle, Mrs. Jacques Heath (Lily May Peel)</td>\n",
       "      <td>female</td>\n",
       "      <td>35.0</td>\n",
       "      <td>1</td>\n",
       "      <td>0</td>\n",
       "      <td>113803</td>\n",
       "      <td>53.1000</td>\n",
       "      <td>C123</td>\n",
       "      <td>S</td>\n",
       "    </tr>\n",
       "    <tr>\n",
       "      <th>4</th>\n",
       "      <td>5</td>\n",
       "      <td>0</td>\n",
       "      <td>3</td>\n",
       "      <td>Allen, Mr. William Henry</td>\n",
       "      <td>male</td>\n",
       "      <td>35.0</td>\n",
       "      <td>0</td>\n",
       "      <td>0</td>\n",
       "      <td>373450</td>\n",
       "      <td>8.0500</td>\n",
       "      <td>NaN</td>\n",
       "      <td>S</td>\n",
       "    </tr>\n",
       "  </tbody>\n",
       "</table>\n",
       "</div>"
      ],
      "text/plain": [
       "   PassengerId  Survived  Pclass  \\\n",
       "0            1         0       3   \n",
       "1            2         1       1   \n",
       "2            3         1       3   \n",
       "3            4         1       1   \n",
       "4            5         0       3   \n",
       "\n",
       "                                                Name     Sex   Age  SibSp  \\\n",
       "0                            Braund, Mr. Owen Harris    male  22.0      1   \n",
       "1  Cumings, Mrs. John Bradley (Florence Briggs Th...  female  38.0      1   \n",
       "2                             Heikkinen, Miss. Laina  female  26.0      0   \n",
       "3       Futrelle, Mrs. Jacques Heath (Lily May Peel)  female  35.0      1   \n",
       "4                           Allen, Mr. William Henry    male  35.0      0   \n",
       "\n",
       "   Parch            Ticket     Fare Cabin Embarked  \n",
       "0      0         A/5 21171   7.2500   NaN        S  \n",
       "1      0          PC 17599  71.2833   C85        C  \n",
       "2      0  STON/O2. 3101282   7.9250   NaN        S  \n",
       "3      0            113803  53.1000  C123        S  \n",
       "4      0            373450   8.0500   NaN        S  "
      ]
     },
     "execution_count": 3,
     "metadata": {},
     "output_type": "execute_result"
    }
   ],
   "source": [
    "# Load the Data and get familiar with it\n",
    "# Source: https://www.kaggle.com/c/titanic/data\n",
    "# Refer to the Kaggle website for Variable Descriptions\n",
    "# Note that for this Udacity project, the train.csv data is used and has been renamed 'titanic-data.csv'\n",
    "\n",
    "import pandas as pd\n",
    "import numpy as np\n",
    "from pandas import DataFrame, Series\n",
    "import matplotlib\n",
    "import matplotlib.pyplot as plt\n",
    "import seaborn as sns\n",
    "import re\n",
    "\n",
    "%matplotlib inline\n",
    "\n",
    "data = pd.read_csv('train.csv')\n",
    "data.head()"
   ]
  },
  {
   "cell_type": "markdown",
   "metadata": {},
   "source": [
    "The Kaggle [website](https://www.kaggle.com/c/titanic/data) for this data has excellent descriptions of variables in this data so I will not go into great detail about what each variable is.  This data which lists a sample of the ship population could be used to estimate and describe the rest of the ship population.  If I had additional data, I could describe this sample in terms of world or national populations at the time and compare Titanic passengers to the population that stayed on land during the ship's voyage.  Instead I shall take inspiration from the Kaggle competition that tried to predict which passengers survived and which perished and examine which variables correlated with survival the most.  Therefore, the dependent variable which will be studied in detail is 'Survived' which is an integer where a value of 0 means the passenger perished and a value of 1 means the passenger survived.\n",
    "\n",
    "### Questions:  \n",
    "Is the expression \"Women and Children First\" reflected in the rates of survival for these two groups in our data set?  If the lifeboat boarding priority does follow this protocol, then women and children would survive at a higher rate than the other lifeboat boarding group: men.  Is the data consistent with behavior of the men aboard the ship offering lifeboats seats to women and children first?\n",
    "\n",
    "Does the captain go down with the ship?\n",
    "\n",
    "Both questions could be nautical cliches steeped in some sort of romanticism about ship disasters and courageous ways to die at sea.  Investigating whether survival correlated with these expressions should help gain insight to what kind of passengers survived the Titanic disaster.\n",
    "\n",
    "Additionally, are there other variables that could have significantly affected survival rates in the lifeboat boarding groups?\n",
    "\n",
    "#### Workflow stages\n",
    "1. Acquire the data\n",
    "2. Analyze, explore, and identify patterns in the data\n",
    "3. Seperate passengers into boarding groups Women, Children, and Men and compare survival\n",
    "4. Examine other variables and how they could possibly affect the \"Women and Children First\" protocol"
   ]
  },
  {
   "cell_type": "markdown",
   "metadata": {},
   "source": [
    "### 1. Acquire the data\n",
    "\n",
    "The data has been loaded and previewed above.  We can see that each row corresponds to a passenger."
   ]
  },
  {
   "cell_type": "code",
   "execution_count": 4,
   "metadata": {},
   "outputs": [
    {
     "data": {
      "text/html": [
       "<div>\n",
       "<style scoped>\n",
       "    .dataframe tbody tr th:only-of-type {\n",
       "        vertical-align: middle;\n",
       "    }\n",
       "\n",
       "    .dataframe tbody tr th {\n",
       "        vertical-align: top;\n",
       "    }\n",
       "\n",
       "    .dataframe thead th {\n",
       "        text-align: right;\n",
       "    }\n",
       "</style>\n",
       "<table border=\"1\" class=\"dataframe\">\n",
       "  <thead>\n",
       "    <tr style=\"text-align: right;\">\n",
       "      <th></th>\n",
       "      <th>PassengerId</th>\n",
       "      <th>Survived</th>\n",
       "      <th>Pclass</th>\n",
       "      <th>Age</th>\n",
       "      <th>SibSp</th>\n",
       "      <th>Parch</th>\n",
       "      <th>Fare</th>\n",
       "    </tr>\n",
       "  </thead>\n",
       "  <tbody>\n",
       "    <tr>\n",
       "      <th>count</th>\n",
       "      <td>891.000000</td>\n",
       "      <td>891.000000</td>\n",
       "      <td>891.000000</td>\n",
       "      <td>714.000000</td>\n",
       "      <td>891.000000</td>\n",
       "      <td>891.000000</td>\n",
       "      <td>891.000000</td>\n",
       "    </tr>\n",
       "    <tr>\n",
       "      <th>mean</th>\n",
       "      <td>446.000000</td>\n",
       "      <td>0.383838</td>\n",
       "      <td>2.308642</td>\n",
       "      <td>29.699118</td>\n",
       "      <td>0.523008</td>\n",
       "      <td>0.381594</td>\n",
       "      <td>32.204208</td>\n",
       "    </tr>\n",
       "    <tr>\n",
       "      <th>std</th>\n",
       "      <td>257.353842</td>\n",
       "      <td>0.486592</td>\n",
       "      <td>0.836071</td>\n",
       "      <td>14.526497</td>\n",
       "      <td>1.102743</td>\n",
       "      <td>0.806057</td>\n",
       "      <td>49.693429</td>\n",
       "    </tr>\n",
       "    <tr>\n",
       "      <th>min</th>\n",
       "      <td>1.000000</td>\n",
       "      <td>0.000000</td>\n",
       "      <td>1.000000</td>\n",
       "      <td>0.420000</td>\n",
       "      <td>0.000000</td>\n",
       "      <td>0.000000</td>\n",
       "      <td>0.000000</td>\n",
       "    </tr>\n",
       "    <tr>\n",
       "      <th>25%</th>\n",
       "      <td>223.500000</td>\n",
       "      <td>0.000000</td>\n",
       "      <td>2.000000</td>\n",
       "      <td>20.125000</td>\n",
       "      <td>0.000000</td>\n",
       "      <td>0.000000</td>\n",
       "      <td>7.910400</td>\n",
       "    </tr>\n",
       "    <tr>\n",
       "      <th>50%</th>\n",
       "      <td>446.000000</td>\n",
       "      <td>0.000000</td>\n",
       "      <td>3.000000</td>\n",
       "      <td>28.000000</td>\n",
       "      <td>0.000000</td>\n",
       "      <td>0.000000</td>\n",
       "      <td>14.454200</td>\n",
       "    </tr>\n",
       "    <tr>\n",
       "      <th>75%</th>\n",
       "      <td>668.500000</td>\n",
       "      <td>1.000000</td>\n",
       "      <td>3.000000</td>\n",
       "      <td>38.000000</td>\n",
       "      <td>1.000000</td>\n",
       "      <td>0.000000</td>\n",
       "      <td>31.000000</td>\n",
       "    </tr>\n",
       "    <tr>\n",
       "      <th>max</th>\n",
       "      <td>891.000000</td>\n",
       "      <td>1.000000</td>\n",
       "      <td>3.000000</td>\n",
       "      <td>80.000000</td>\n",
       "      <td>8.000000</td>\n",
       "      <td>6.000000</td>\n",
       "      <td>512.329200</td>\n",
       "    </tr>\n",
       "  </tbody>\n",
       "</table>\n",
       "</div>"
      ],
      "text/plain": [
       "       PassengerId    Survived      Pclass         Age       SibSp  \\\n",
       "count   891.000000  891.000000  891.000000  714.000000  891.000000   \n",
       "mean    446.000000    0.383838    2.308642   29.699118    0.523008   \n",
       "std     257.353842    0.486592    0.836071   14.526497    1.102743   \n",
       "min       1.000000    0.000000    1.000000    0.420000    0.000000   \n",
       "25%     223.500000    0.000000    2.000000   20.125000    0.000000   \n",
       "50%     446.000000    0.000000    3.000000   28.000000    0.000000   \n",
       "75%     668.500000    1.000000    3.000000   38.000000    1.000000   \n",
       "max     891.000000    1.000000    3.000000   80.000000    8.000000   \n",
       "\n",
       "            Parch        Fare  \n",
       "count  891.000000  891.000000  \n",
       "mean     0.381594   32.204208  \n",
       "std      0.806057   49.693429  \n",
       "min      0.000000    0.000000  \n",
       "25%      0.000000    7.910400  \n",
       "50%      0.000000   14.454200  \n",
       "75%      0.000000   31.000000  \n",
       "max      6.000000  512.329200  "
      ]
     },
     "execution_count": 4,
     "metadata": {},
     "output_type": "execute_result"
    }
   ],
   "source": [
    "# Display summary statistics quickly\n",
    "data.describe()"
   ]
  },
  {
   "cell_type": "markdown",
   "metadata": {},
   "source": [
    "Applying the <b>describe</b> function tells us that there are 891 passengers in the sample set.  About 38% of the passengers survived.  The average age of the sample is 29.7 years old, and the median age is 28.  There are also 177 passengers that have null values values for their ages which must be addressed in order to categorize them as children or not.\n",
    "\n",
    "The describe function also hints that not all the variables are numerical.  It only summarizes variables that are numerical so there are fewer columns listed than in a complete dataframe.  The 'Name', 'Sex', 'Ticket', 'Cabin', and 'Embarked' variables seem to be strings.  I can confirm this with the <b>info</b> function:"
   ]
  },
  {
   "cell_type": "code",
   "execution_count": 5,
   "metadata": {},
   "outputs": [
    {
     "name": "stdout",
     "output_type": "stream",
     "text": [
      "<class 'pandas.core.frame.DataFrame'>\n",
      "RangeIndex: 891 entries, 0 to 890\n",
      "Data columns (total 12 columns):\n",
      "PassengerId    891 non-null int64\n",
      "Survived       891 non-null int64\n",
      "Pclass         891 non-null int64\n",
      "Name           891 non-null object\n",
      "Sex            891 non-null object\n",
      "Age            714 non-null float64\n",
      "SibSp          891 non-null int64\n",
      "Parch          891 non-null int64\n",
      "Ticket         891 non-null object\n",
      "Fare           891 non-null float64\n",
      "Cabin          204 non-null object\n",
      "Embarked       889 non-null object\n",
      "dtypes: float64(2), int64(5), object(5)\n",
      "memory usage: 83.6+ KB\n"
     ]
    }
   ],
   "source": [
    "# Describe the DataFrame\n",
    "data.info()"
   ]
  },
  {
   "cell_type": "markdown",
   "metadata": {},
   "source": [
    "Not all of the columns are numerical.  Not all rows contain entries for certain columns, 'Age', 'Cabin', or 'Embarked'.  This tells us which non-numerical data should be converted and null data substituted for.  "
   ]
  },
  {
   "cell_type": "code",
   "execution_count": 6,
   "metadata": {},
   "outputs": [
    {
     "data": {
      "text/html": [
       "<div>\n",
       "<style scoped>\n",
       "    .dataframe tbody tr th:only-of-type {\n",
       "        vertical-align: middle;\n",
       "    }\n",
       "\n",
       "    .dataframe tbody tr th {\n",
       "        vertical-align: top;\n",
       "    }\n",
       "\n",
       "    .dataframe thead th {\n",
       "        text-align: right;\n",
       "    }\n",
       "</style>\n",
       "<table border=\"1\" class=\"dataframe\">\n",
       "  <thead>\n",
       "    <tr style=\"text-align: right;\">\n",
       "      <th></th>\n",
       "      <th>Name</th>\n",
       "      <th>Sex</th>\n",
       "      <th>Ticket</th>\n",
       "      <th>Cabin</th>\n",
       "      <th>Embarked</th>\n",
       "    </tr>\n",
       "  </thead>\n",
       "  <tbody>\n",
       "    <tr>\n",
       "      <th>count</th>\n",
       "      <td>891</td>\n",
       "      <td>891</td>\n",
       "      <td>891</td>\n",
       "      <td>204</td>\n",
       "      <td>889</td>\n",
       "    </tr>\n",
       "    <tr>\n",
       "      <th>unique</th>\n",
       "      <td>891</td>\n",
       "      <td>2</td>\n",
       "      <td>681</td>\n",
       "      <td>147</td>\n",
       "      <td>3</td>\n",
       "    </tr>\n",
       "    <tr>\n",
       "      <th>top</th>\n",
       "      <td>Johannesen-Bratthammer, Mr. Bernt</td>\n",
       "      <td>male</td>\n",
       "      <td>1601</td>\n",
       "      <td>B96 B98</td>\n",
       "      <td>S</td>\n",
       "    </tr>\n",
       "    <tr>\n",
       "      <th>freq</th>\n",
       "      <td>1</td>\n",
       "      <td>577</td>\n",
       "      <td>7</td>\n",
       "      <td>4</td>\n",
       "      <td>644</td>\n",
       "    </tr>\n",
       "  </tbody>\n",
       "</table>\n",
       "</div>"
      ],
      "text/plain": [
       "                                     Name   Sex Ticket    Cabin Embarked\n",
       "count                                 891   891    891      204      889\n",
       "unique                                891     2    681      147        3\n",
       "top     Johannesen-Bratthammer, Mr. Bernt  male   1601  B96 B98        S\n",
       "freq                                    1   577      7        4      644"
      ]
     },
     "execution_count": 6,
     "metadata": {},
     "output_type": "execute_result"
    }
   ],
   "source": [
    "# Categorical Data Summary\n",
    "data.describe(include=['O'])"
   ]
  },
  {
   "cell_type": "markdown",
   "metadata": {},
   "source": [
    "The number of rows in the data frame is equal to the number of unique names in the 'Name' column.  This makes the 'Name' column difficult to categorize.\n",
    "\n",
    "The 'Sex' columm will be very easy to categorize.\n",
    "\n",
    "There are fewer unique entries in the 'Ticket' column, I assumes this means a family or a group shared a ticket.  The ticket with the most passengers was associated with 7 people.\n",
    "\n",
    "Only 204 people stayed in cabins.  The most people in a cabin was four.    "
   ]
  },
  {
   "cell_type": "markdown",
   "metadata": {},
   "source": [
    "### 2. Analyze, Explore, Identify Patterns in Data"
   ]
  },
  {
   "cell_type": "markdown",
   "metadata": {},
   "source": [
    "The easiest way to find correlations in the data is to simply use the <b>corr</b> function.  This requires converting some of the features into numerical features.  Generally I will continue using the convention of the 'Survived' variable which is essentially a boolean variable represented as the integers 0 and 1.  New variables 'Female', and 'Male' will be created from the 'Sex' column.  Variables 'Pc1', 'Pc2', and 'Pc3' will represent the passenger class variable 'Pclass' and its three uniquee values: 1, 2, and 3.  Variables 'Emb_C', 'Emb_Q', and 'Emb_S' will represent the 'Embarked' column and the embarkation ports of Cherbourg, Queenstown, and Southampton respectively."
   ]
  },
  {
   "cell_type": "code",
   "execution_count": 7,
   "metadata": {},
   "outputs": [],
   "source": [
    "# Convert variables into integers\n",
    "# To improve code, used dictionaries\n",
    "\n",
    "# Create new boolean variables for sex\n",
    "data['Female'] = (data['Sex']=='female').astype(int)\n",
    "data['Male'] = (data['Sex']=='male').astype(int)\n",
    "\n",
    "# Create new boolean variables for passenger class\n",
    "data['Pc1'] = (data['Pclass']==1).astype(int)\n",
    "data['Pc2'] = (data['Pclass']==2).astype(int)\n",
    "data['Pc3'] = (data['Pclass']==3).astype(int)\n",
    "\n",
    "# Create new numerical variables to describe embarkation ports\n",
    "data['Emb_C'] = (data['Embarked']=='C').astype(int)\n",
    "data['Emb_Q'] = (data['Embarked']=='Q').astype(int)\n",
    "data['Emb_S'] = (data['Embarked']=='S').astype(int)"
   ]
  },
  {
   "cell_type": "markdown",
   "metadata": {},
   "source": [
    "Now apply the <b>corr</b> function in terms of 'Survived':"
   ]
  },
  {
   "cell_type": "code",
   "execution_count": 8,
   "metadata": {},
   "outputs": [
    {
     "data": {
      "text/plain": [
       "Survived       1.000000\n",
       "Female         0.543351\n",
       "Pc1            0.285904\n",
       "Fare           0.257307\n",
       "Emb_C          0.168240\n",
       "Pc2            0.093349\n",
       "Parch          0.081629\n",
       "Emb_Q          0.003650\n",
       "PassengerId   -0.005007\n",
       "SibSp         -0.035322\n",
       "Age           -0.077221\n",
       "Emb_S         -0.155660\n",
       "Pc3           -0.322308\n",
       "Pclass        -0.338481\n",
       "Male          -0.543351\n",
       "Name: Survived, dtype: float64"
      ]
     },
     "execution_count": 8,
     "metadata": {},
     "output_type": "execute_result"
    }
   ],
   "source": [
    "(data.corr().Survived).sort_values(ascending= False)"
   ]
  },
  {
   "cell_type": "markdown",
   "metadata": {},
   "source": [
    "The variable that correlated most positively to survival is 'Female'.  The most negatively correlated was 'Male'.  Clearly 'Sex' correlates well with 'Survival'.  This makes it seem very likely that women were given preferential lifeboat boarding along with female children.  The negative correlation of being male could mean that both men and male children were refused entry on lifeboats.  I can't say for sure at this point whether both female and male children boarded lifeboats at different rate than the adults.  This relationship will be studied in further detail.\n",
    "\n",
    "The correlation between 'Age' and 'Survival' does not appear to be very strong but it is negatively correlated which means older people had lower rates of survival.  This could indicate that children had a better chance of survival but more analysis is necessary.\n",
    "\n",
    "The variable with the next highest magnitude after those related to gender is 'Pclass' which describes passengers as either 1, 2, or 3.  What this means is that the 'Pclass' is negatively correlated with passenger class.  The higher the number of your class, the less likely you will survive.  This can be confusing because first class passengers are considered upper class and third class, lower class.  Though there does seem to be a strong linear correlation between 'Pclass' and 'Survival', I think a linear correlation is inappropriate for describing what are just three datapoints on the 'Pclass' vs. 'Survival' curve.  The 'Pclass' variable should still be treated as a categorical variable.  Splitting up 'Pclass' into three boolean variables as I have done should make this clearer.\n",
    "\n",
    "Among the variables describing each passenger class, 'Pc3' is most negatively correlated with 'Survival' and 'Pc1' is most positively correlated.  'Pc2' is also positively correlated with survival but to a lesser degree.  The magnitudes of 'Pc3' and 'Pc1' correlations demand further analysis.\n",
    "\n",
    "Next up, 'Fare' positively correlates with survival.  This means that the more you paid for your ticket, the greater you likelihood for survival.  I suspect however, that 'Fare' correlates strongly with 'Pclass'.  I'll study this relationship further."
   ]
  },
  {
   "cell_type": "markdown",
   "metadata": {},
   "source": [
    "### 3. Differentiate groups of passengers and compare their survival rates"
   ]
  },
  {
   "cell_type": "markdown",
   "metadata": {},
   "source": [
    "#### Age and Survival  \n",
    "\n",
    "Let us quickly examine 'Age' and 'Survival' in a histogram.  Please note that the passengers for whom 'Age' was NaN are grouped in the far right bin.  The oldest passenger with a verified age was 80-years-old."
   ]
  },
  {
   "cell_type": "code",
   "execution_count": 9,
   "metadata": {},
   "outputs": [
    {
     "name": "stderr",
     "output_type": "stream",
     "text": [
      "/home/jeff/anaconda3/lib/python3.6/site-packages/ipykernel_launcher.py:41: RuntimeWarning: invalid value encountered in true_divide\n"
     ]
    },
    {
     "data": {
      "image/png": "[encoded data removed]",
      "text/plain": [
       "<matplotlib.figure.Figure at 0x7a007f08b518>"
      ]
     },
     "metadata": {},
     "output_type": "display_data"
    }
   ],
   "source": [
    "# Plot a frequency histogram with survivors and victims grouped by age\n",
    "# Use the fillna function to differentiate those whose ages are NaN\n",
    "# Set NaN to 100 which is much greater than max('Age') = 80\n",
    "\n",
    "nan_sub = 100\n",
    "survivors_age = data[data.Survived == True].Age.fillna(nan_sub)\n",
    "victims_age = data[data.Survived == False].Age.fillna(nan_sub)\n",
    "\n",
    "\n",
    "bin_width = 5\n",
    "lower_bound = -5\n",
    "upper_bound = 105\n",
    "bar_width = 4.5\n",
    "survivor_color = 'b'\n",
    "victim_color = 'r'\n",
    "rate_color = 'g'\n",
    "\n",
    "bins = np.arange(lower_bound, upper_bound, bin_width)\n",
    "index = bins[0:-1]\n",
    "\n",
    "fig, (ax1, ax2) = plt.subplots(2,1, figsize = (15,10))\n",
    "ax1.bar(index + 0.5*bar_width, np.histogram(survivors_age, bins)[0],\n",
    "       color = survivor_color, width = bar_width)\n",
    "ax1.bar(index + 0.5*bar_width, np.histogram(victims_age, bins)[0]*-1,\n",
    "        color = victim_color, width = bar_width, hatch = 'x')\n",
    "\n",
    "ax1.set_ylabel('Count')\n",
    "ax1.set_xlabel('Age')\n",
    "ax1.set_title('Age and Survival')\n",
    "ax1.legend(['Survivor', 'Victim'])\n",
    "ax1.axhline(0, color = 'k', linestyle = '--')\n",
    "ax1.set_xticklabels(['',0, 20, 40, 60, 80, 'Age = NaN'])\n",
    "ticks =  ax1.get_yticks()\n",
    "ax1.set_yticklabels([int(abs(tick)) for tick in ticks])\n",
    "\n",
    "# Plot Age vs. Survival rate\n",
    "\n",
    "nan_sub = 100\n",
    "survivors_age = data[data.Survived == True].Age.fillna(nan_sub)\n",
    "all_age = data.Age.fillna(nan_sub)\n",
    "age_rate = np.nan_to_num(np.histogram(survivors_age,bins)[0]/np.histogram(all_age,bins)[0])\n",
    "\n",
    "\n",
    "ax2.bar(index+0.5*bar_width, age_rate, \n",
    "        color = rate_color, width = bar_width)\n",
    "\n",
    "\n",
    "ax2.set_ylabel('Survival Rate')\n",
    "ax2.set_xlabel('Age')\n",
    "ax2.set_title('Age and Survival Rate')\n",
    "ax2.set_xticklabels(['',0, 20, 40, 60, 80, 'Age = NaN'])\n",
    "plt.subplots_adjust(hspace = 0.3)\n",
    "plt.show()\n",
    "\n"
   ]
  },
  {
   "cell_type": "markdown",
   "metadata": {},
   "source": [
    "This histogram suggest that chidren, especially those 5-years and younger, had better rates of survival than most of the sample.  It also suggest that children travelled at a lower rate than adults since there is a discontinuity in the age distribution at around 15 years and younger.  If the sample reflected the general human population, the age of passengers should be gradually decreasing as people age and die.  This age discontinuity is also a threshold where passengers who were younger survived at higher rates than the rest of the sample.  Though this initially suggests that children had a higher survival rate, the age cutoff for children will have to be explicitly definined in order to continue our analysis.\n",
    "\n",
    "The histogram also shows that those for whom 'Age' is NaN are a significant portion of our sample and they also have the lowest likelihood of survival.  Often missing values like this are filled in with a median or mean value from the rest of the sample but this would be reckless if our goal is to seperate adults and children.  A mean or median substitution for 'Age' equal to NaN would group them all as adults.  Alternatively, one could assign a random age to these passengers that reflects the age distribution of the rest of the sample but this could also be misleading.\n",
    "\n",
    "I propose examining the sample closely to find some sort of other way of seperating the samples into children and adults.  For now, I will assume that children are 18-years-old or younger."
   ]
  },
  {
   "cell_type": "code",
   "execution_count": 10,
   "metadata": {},
   "outputs": [
    {
     "data": {
      "text/html": [
       "<div>\n",
       "<style scoped>\n",
       "    .dataframe tbody tr th:only-of-type {\n",
       "        vertical-align: middle;\n",
       "    }\n",
       "\n",
       "    .dataframe tbody tr th {\n",
       "        vertical-align: top;\n",
       "    }\n",
       "\n",
       "    .dataframe thead th {\n",
       "        text-align: right;\n",
       "    }\n",
       "</style>\n",
       "<table border=\"1\" class=\"dataframe\">\n",
       "  <thead>\n",
       "    <tr style=\"text-align: right;\">\n",
       "      <th></th>\n",
       "      <th>PassengerId</th>\n",
       "      <th>Survived</th>\n",
       "      <th>Pclass</th>\n",
       "      <th>Name</th>\n",
       "      <th>Sex</th>\n",
       "      <th>Age</th>\n",
       "      <th>SibSp</th>\n",
       "      <th>Parch</th>\n",
       "      <th>Ticket</th>\n",
       "      <th>Fare</th>\n",
       "      <th>Cabin</th>\n",
       "      <th>Embarked</th>\n",
       "      <th>Female</th>\n",
       "      <th>Male</th>\n",
       "      <th>Pc1</th>\n",
       "      <th>Pc2</th>\n",
       "      <th>Pc3</th>\n",
       "      <th>Emb_C</th>\n",
       "      <th>Emb_Q</th>\n",
       "      <th>Emb_S</th>\n",
       "    </tr>\n",
       "  </thead>\n",
       "  <tbody>\n",
       "    <tr>\n",
       "      <th>7</th>\n",
       "      <td>8</td>\n",
       "      <td>0</td>\n",
       "      <td>3</td>\n",
       "      <td>Palsson, Master. Gosta Leonard</td>\n",
       "      <td>male</td>\n",
       "      <td>2.0</td>\n",
       "      <td>3</td>\n",
       "      <td>1</td>\n",
       "      <td>349909</td>\n",
       "      <td>21.0750</td>\n",
       "      <td>NaN</td>\n",
       "      <td>S</td>\n",
       "      <td>0</td>\n",
       "      <td>1</td>\n",
       "      <td>0</td>\n",
       "      <td>0</td>\n",
       "      <td>1</td>\n",
       "      <td>0</td>\n",
       "      <td>0</td>\n",
       "      <td>1</td>\n",
       "    </tr>\n",
       "    <tr>\n",
       "      <th>9</th>\n",
       "      <td>10</td>\n",
       "      <td>1</td>\n",
       "      <td>2</td>\n",
       "      <td>Nasser, Mrs. Nicholas (Adele Achem)</td>\n",
       "      <td>female</td>\n",
       "      <td>14.0</td>\n",
       "      <td>1</td>\n",
       "      <td>0</td>\n",
       "      <td>237736</td>\n",
       "      <td>30.0708</td>\n",
       "      <td>NaN</td>\n",
       "      <td>C</td>\n",
       "      <td>1</td>\n",
       "      <td>0</td>\n",
       "      <td>0</td>\n",
       "      <td>1</td>\n",
       "      <td>0</td>\n",
       "      <td>1</td>\n",
       "      <td>0</td>\n",
       "      <td>0</td>\n",
       "    </tr>\n",
       "    <tr>\n",
       "      <th>10</th>\n",
       "      <td>11</td>\n",
       "      <td>1</td>\n",
       "      <td>3</td>\n",
       "      <td>Sandstrom, Miss. Marguerite Rut</td>\n",
       "      <td>female</td>\n",
       "      <td>4.0</td>\n",
       "      <td>1</td>\n",
       "      <td>1</td>\n",
       "      <td>PP 9549</td>\n",
       "      <td>16.7000</td>\n",
       "      <td>G6</td>\n",
       "      <td>S</td>\n",
       "      <td>1</td>\n",
       "      <td>0</td>\n",
       "      <td>0</td>\n",
       "      <td>0</td>\n",
       "      <td>1</td>\n",
       "      <td>0</td>\n",
       "      <td>0</td>\n",
       "      <td>1</td>\n",
       "    </tr>\n",
       "    <tr>\n",
       "      <th>14</th>\n",
       "      <td>15</td>\n",
       "      <td>0</td>\n",
       "      <td>3</td>\n",
       "      <td>Vestrom, Miss. Hulda Amanda Adolfina</td>\n",
       "      <td>female</td>\n",
       "      <td>14.0</td>\n",
       "      <td>0</td>\n",
       "      <td>0</td>\n",
       "      <td>350406</td>\n",
       "      <td>7.8542</td>\n",
       "      <td>NaN</td>\n",
       "      <td>S</td>\n",
       "      <td>1</td>\n",
       "      <td>0</td>\n",
       "      <td>0</td>\n",
       "      <td>0</td>\n",
       "      <td>1</td>\n",
       "      <td>0</td>\n",
       "      <td>0</td>\n",
       "      <td>1</td>\n",
       "    </tr>\n",
       "    <tr>\n",
       "      <th>16</th>\n",
       "      <td>17</td>\n",
       "      <td>0</td>\n",
       "      <td>3</td>\n",
       "      <td>Rice, Master. Eugene</td>\n",
       "      <td>male</td>\n",
       "      <td>2.0</td>\n",
       "      <td>4</td>\n",
       "      <td>1</td>\n",
       "      <td>382652</td>\n",
       "      <td>29.1250</td>\n",
       "      <td>NaN</td>\n",
       "      <td>Q</td>\n",
       "      <td>0</td>\n",
       "      <td>1</td>\n",
       "      <td>0</td>\n",
       "      <td>0</td>\n",
       "      <td>1</td>\n",
       "      <td>0</td>\n",
       "      <td>1</td>\n",
       "      <td>0</td>\n",
       "    </tr>\n",
       "  </tbody>\n",
       "</table>\n",
       "</div>"
      ],
      "text/plain": [
       "    PassengerId  Survived  Pclass                                  Name  \\\n",
       "7             8         0       3        Palsson, Master. Gosta Leonard   \n",
       "9            10         1       2   Nasser, Mrs. Nicholas (Adele Achem)   \n",
       "10           11         1       3       Sandstrom, Miss. Marguerite Rut   \n",
       "14           15         0       3  Vestrom, Miss. Hulda Amanda Adolfina   \n",
       "16           17         0       3                  Rice, Master. Eugene   \n",
       "\n",
       "       Sex   Age  SibSp  Parch   Ticket     Fare Cabin Embarked  Female  Male  \\\n",
       "7     male   2.0      3      1   349909  21.0750   NaN        S       0     1   \n",
       "9   female  14.0      1      0   237736  30.0708   NaN        C       1     0   \n",
       "10  female   4.0      1      1  PP 9549  16.7000    G6        S       1     0   \n",
       "14  female  14.0      0      0   350406   7.8542   NaN        S       1     0   \n",
       "16    male   2.0      4      1   382652  29.1250   NaN        Q       0     1   \n",
       "\n",
       "    Pc1  Pc2  Pc3  Emb_C  Emb_Q  Emb_S  \n",
       "7     0    0    1      0      0      1  \n",
       "9     0    1    0      1      0      0  \n",
       "10    0    0    1      0      0      1  \n",
       "14    0    0    1      0      0      1  \n",
       "16    0    0    1      0      1      0  "
      ]
     },
     "execution_count": 10,
     "metadata": {},
     "output_type": "execute_result"
    }
   ],
   "source": [
    "# Explore passengers presume to be children\n",
    "age_cutoff = 18\n",
    "data[data.Age<age_cutoff].head()"
   ]
  },
  {
   "cell_type": "code",
   "execution_count": 11,
   "metadata": {},
   "outputs": [
    {
     "data": {
      "text/html": [
       "<div>\n",
       "<style scoped>\n",
       "    .dataframe tbody tr th:only-of-type {\n",
       "        vertical-align: middle;\n",
       "    }\n",
       "\n",
       "    .dataframe tbody tr th {\n",
       "        vertical-align: top;\n",
       "    }\n",
       "\n",
       "    .dataframe thead th {\n",
       "        text-align: right;\n",
       "    }\n",
       "</style>\n",
       "<table border=\"1\" class=\"dataframe\">\n",
       "  <thead>\n",
       "    <tr style=\"text-align: right;\">\n",
       "      <th></th>\n",
       "      <th>PassengerId</th>\n",
       "      <th>Survived</th>\n",
       "      <th>Pclass</th>\n",
       "      <th>Name</th>\n",
       "      <th>Sex</th>\n",
       "      <th>Age</th>\n",
       "      <th>SibSp</th>\n",
       "      <th>Parch</th>\n",
       "      <th>Ticket</th>\n",
       "      <th>Fare</th>\n",
       "      <th>Cabin</th>\n",
       "      <th>Embarked</th>\n",
       "      <th>Female</th>\n",
       "      <th>Male</th>\n",
       "      <th>Pc1</th>\n",
       "      <th>Pc2</th>\n",
       "      <th>Pc3</th>\n",
       "      <th>Emb_C</th>\n",
       "      <th>Emb_Q</th>\n",
       "      <th>Emb_S</th>\n",
       "    </tr>\n",
       "  </thead>\n",
       "  <tbody>\n",
       "    <tr>\n",
       "      <th>0</th>\n",
       "      <td>1</td>\n",
       "      <td>0</td>\n",
       "      <td>3</td>\n",
       "      <td>Braund, Mr. Owen Harris</td>\n",
       "      <td>male</td>\n",
       "      <td>22.0</td>\n",
       "      <td>1</td>\n",
       "      <td>0</td>\n",
       "      <td>A/5 21171</td>\n",
       "      <td>7.2500</td>\n",
       "      <td>NaN</td>\n",
       "      <td>S</td>\n",
       "      <td>0</td>\n",
       "      <td>1</td>\n",
       "      <td>0</td>\n",
       "      <td>0</td>\n",
       "      <td>1</td>\n",
       "      <td>0</td>\n",
       "      <td>0</td>\n",
       "      <td>1</td>\n",
       "    </tr>\n",
       "    <tr>\n",
       "      <th>1</th>\n",
       "      <td>2</td>\n",
       "      <td>1</td>\n",
       "      <td>1</td>\n",
       "      <td>Cumings, Mrs. John Bradley (Florence Briggs Th...</td>\n",
       "      <td>female</td>\n",
       "      <td>38.0</td>\n",
       "      <td>1</td>\n",
       "      <td>0</td>\n",
       "      <td>PC 17599</td>\n",
       "      <td>71.2833</td>\n",
       "      <td>C85</td>\n",
       "      <td>C</td>\n",
       "      <td>1</td>\n",
       "      <td>0</td>\n",
       "      <td>1</td>\n",
       "      <td>0</td>\n",
       "      <td>0</td>\n",
       "      <td>1</td>\n",
       "      <td>0</td>\n",
       "      <td>0</td>\n",
       "    </tr>\n",
       "    <tr>\n",
       "      <th>2</th>\n",
       "      <td>3</td>\n",
       "      <td>1</td>\n",
       "      <td>3</td>\n",
       "      <td>Heikkinen, Miss. Laina</td>\n",
       "      <td>female</td>\n",
       "      <td>26.0</td>\n",
       "      <td>0</td>\n",
       "      <td>0</td>\n",
       "      <td>STON/O2. 3101282</td>\n",
       "      <td>7.9250</td>\n",
       "      <td>NaN</td>\n",
       "      <td>S</td>\n",
       "      <td>1</td>\n",
       "      <td>0</td>\n",
       "      <td>0</td>\n",
       "      <td>0</td>\n",
       "      <td>1</td>\n",
       "      <td>0</td>\n",
       "      <td>0</td>\n",
       "      <td>1</td>\n",
       "    </tr>\n",
       "    <tr>\n",
       "      <th>3</th>\n",
       "      <td>4</td>\n",
       "      <td>1</td>\n",
       "      <td>1</td>\n",
       "      <td>Futrelle, Mrs. Jacques Heath (Lily May Peel)</td>\n",
       "      <td>female</td>\n",
       "      <td>35.0</td>\n",
       "      <td>1</td>\n",
       "      <td>0</td>\n",
       "      <td>113803</td>\n",
       "      <td>53.1000</td>\n",
       "      <td>C123</td>\n",
       "      <td>S</td>\n",
       "      <td>1</td>\n",
       "      <td>0</td>\n",
       "      <td>1</td>\n",
       "      <td>0</td>\n",
       "      <td>0</td>\n",
       "      <td>0</td>\n",
       "      <td>0</td>\n",
       "      <td>1</td>\n",
       "    </tr>\n",
       "    <tr>\n",
       "      <th>4</th>\n",
       "      <td>5</td>\n",
       "      <td>0</td>\n",
       "      <td>3</td>\n",
       "      <td>Allen, Mr. William Henry</td>\n",
       "      <td>male</td>\n",
       "      <td>35.0</td>\n",
       "      <td>0</td>\n",
       "      <td>0</td>\n",
       "      <td>373450</td>\n",
       "      <td>8.0500</td>\n",
       "      <td>NaN</td>\n",
       "      <td>S</td>\n",
       "      <td>0</td>\n",
       "      <td>1</td>\n",
       "      <td>0</td>\n",
       "      <td>0</td>\n",
       "      <td>1</td>\n",
       "      <td>0</td>\n",
       "      <td>0</td>\n",
       "      <td>1</td>\n",
       "    </tr>\n",
       "  </tbody>\n",
       "</table>\n",
       "</div>"
      ],
      "text/plain": [
       "   PassengerId  Survived  Pclass  \\\n",
       "0            1         0       3   \n",
       "1            2         1       1   \n",
       "2            3         1       3   \n",
       "3            4         1       1   \n",
       "4            5         0       3   \n",
       "\n",
       "                                                Name     Sex   Age  SibSp  \\\n",
       "0                            Braund, Mr. Owen Harris    male  22.0      1   \n",
       "1  Cumings, Mrs. John Bradley (Florence Briggs Th...  female  38.0      1   \n",
       "2                             Heikkinen, Miss. Laina  female  26.0      0   \n",
       "3       Futrelle, Mrs. Jacques Heath (Lily May Peel)  female  35.0      1   \n",
       "4                           Allen, Mr. William Henry    male  35.0      0   \n",
       "\n",
       "   Parch            Ticket     Fare Cabin Embarked  Female  Male  Pc1  Pc2  \\\n",
       "0      0         A/5 21171   7.2500   NaN        S       0     1    0    0   \n",
       "1      0          PC 17599  71.2833   C85        C       1     0    1    0   \n",
       "2      0  STON/O2. 3101282   7.9250   NaN        S       1     0    0    0   \n",
       "3      0            113803  53.1000  C123        S       1     0    1    0   \n",
       "4      0            373450   8.0500   NaN        S       0     1    0    0   \n",
       "\n",
       "   Pc3  Emb_C  Emb_Q  Emb_S  \n",
       "0    1      0      0      1  \n",
       "1    0      1      0      0  \n",
       "2    1      0      0      1  \n",
       "3    0      0      0      1  \n",
       "4    1      0      0      1  "
      ]
     },
     "execution_count": 11,
     "metadata": {},
     "output_type": "execute_result"
    }
   ],
   "source": [
    "# Explore passengers presumed to be adults\n",
    "data[data.Age>=age_cutoff].head()"
   ]
  },
  {
   "cell_type": "code",
   "execution_count": 12,
   "metadata": {},
   "outputs": [
    {
     "data": {
      "text/html": [
       "<div>\n",
       "<style scoped>\n",
       "    .dataframe tbody tr th:only-of-type {\n",
       "        vertical-align: middle;\n",
       "    }\n",
       "\n",
       "    .dataframe tbody tr th {\n",
       "        vertical-align: top;\n",
       "    }\n",
       "\n",
       "    .dataframe thead th {\n",
       "        text-align: right;\n",
       "    }\n",
       "</style>\n",
       "<table border=\"1\" class=\"dataframe\">\n",
       "  <thead>\n",
       "    <tr style=\"text-align: right;\">\n",
       "      <th></th>\n",
       "      <th>PassengerId</th>\n",
       "      <th>Survived</th>\n",
       "      <th>Pclass</th>\n",
       "      <th>Name</th>\n",
       "      <th>Sex</th>\n",
       "      <th>Age</th>\n",
       "      <th>SibSp</th>\n",
       "      <th>Parch</th>\n",
       "      <th>Ticket</th>\n",
       "      <th>Fare</th>\n",
       "      <th>Cabin</th>\n",
       "      <th>Embarked</th>\n",
       "      <th>Female</th>\n",
       "      <th>Male</th>\n",
       "      <th>Pc1</th>\n",
       "      <th>Pc2</th>\n",
       "      <th>Pc3</th>\n",
       "      <th>Emb_C</th>\n",
       "      <th>Emb_Q</th>\n",
       "      <th>Emb_S</th>\n",
       "    </tr>\n",
       "  </thead>\n",
       "  <tbody>\n",
       "    <tr>\n",
       "      <th>5</th>\n",
       "      <td>6</td>\n",
       "      <td>0</td>\n",
       "      <td>3</td>\n",
       "      <td>Moran, Mr. James</td>\n",
       "      <td>male</td>\n",
       "      <td>NaN</td>\n",
       "      <td>0</td>\n",
       "      <td>0</td>\n",
       "      <td>330877</td>\n",
       "      <td>8.4583</td>\n",
       "      <td>NaN</td>\n",
       "      <td>Q</td>\n",
       "      <td>0</td>\n",
       "      <td>1</td>\n",
       "      <td>0</td>\n",
       "      <td>0</td>\n",
       "      <td>1</td>\n",
       "      <td>0</td>\n",
       "      <td>1</td>\n",
       "      <td>0</td>\n",
       "    </tr>\n",
       "    <tr>\n",
       "      <th>17</th>\n",
       "      <td>18</td>\n",
       "      <td>1</td>\n",
       "      <td>2</td>\n",
       "      <td>Williams, Mr. Charles Eugene</td>\n",
       "      <td>male</td>\n",
       "      <td>NaN</td>\n",
       "      <td>0</td>\n",
       "      <td>0</td>\n",
       "      <td>244373</td>\n",
       "      <td>13.0000</td>\n",
       "      <td>NaN</td>\n",
       "      <td>S</td>\n",
       "      <td>0</td>\n",
       "      <td>1</td>\n",
       "      <td>0</td>\n",
       "      <td>1</td>\n",
       "      <td>0</td>\n",
       "      <td>0</td>\n",
       "      <td>0</td>\n",
       "      <td>1</td>\n",
       "    </tr>\n",
       "    <tr>\n",
       "      <th>19</th>\n",
       "      <td>20</td>\n",
       "      <td>1</td>\n",
       "      <td>3</td>\n",
       "      <td>Masselmani, Mrs. Fatima</td>\n",
       "      <td>female</td>\n",
       "      <td>NaN</td>\n",
       "      <td>0</td>\n",
       "      <td>0</td>\n",
       "      <td>2649</td>\n",
       "      <td>7.2250</td>\n",
       "      <td>NaN</td>\n",
       "      <td>C</td>\n",
       "      <td>1</td>\n",
       "      <td>0</td>\n",
       "      <td>0</td>\n",
       "      <td>0</td>\n",
       "      <td>1</td>\n",
       "      <td>1</td>\n",
       "      <td>0</td>\n",
       "      <td>0</td>\n",
       "    </tr>\n",
       "    <tr>\n",
       "      <th>26</th>\n",
       "      <td>27</td>\n",
       "      <td>0</td>\n",
       "      <td>3</td>\n",
       "      <td>Emir, Mr. Farred Chehab</td>\n",
       "      <td>male</td>\n",
       "      <td>NaN</td>\n",
       "      <td>0</td>\n",
       "      <td>0</td>\n",
       "      <td>2631</td>\n",
       "      <td>7.2250</td>\n",
       "      <td>NaN</td>\n",
       "      <td>C</td>\n",
       "      <td>0</td>\n",
       "      <td>1</td>\n",
       "      <td>0</td>\n",
       "      <td>0</td>\n",
       "      <td>1</td>\n",
       "      <td>1</td>\n",
       "      <td>0</td>\n",
       "      <td>0</td>\n",
       "    </tr>\n",
       "    <tr>\n",
       "      <th>28</th>\n",
       "      <td>29</td>\n",
       "      <td>1</td>\n",
       "      <td>3</td>\n",
       "      <td>O'Dwyer, Miss. Ellen \"Nellie\"</td>\n",
       "      <td>female</td>\n",
       "      <td>NaN</td>\n",
       "      <td>0</td>\n",
       "      <td>0</td>\n",
       "      <td>330959</td>\n",
       "      <td>7.8792</td>\n",
       "      <td>NaN</td>\n",
       "      <td>Q</td>\n",
       "      <td>1</td>\n",
       "      <td>0</td>\n",
       "      <td>0</td>\n",
       "      <td>0</td>\n",
       "      <td>1</td>\n",
       "      <td>0</td>\n",
       "      <td>1</td>\n",
       "      <td>0</td>\n",
       "    </tr>\n",
       "  </tbody>\n",
       "</table>\n",
       "</div>"
      ],
      "text/plain": [
       "    PassengerId  Survived  Pclass                           Name     Sex  Age  \\\n",
       "5             6         0       3               Moran, Mr. James    male  NaN   \n",
       "17           18         1       2   Williams, Mr. Charles Eugene    male  NaN   \n",
       "19           20         1       3        Masselmani, Mrs. Fatima  female  NaN   \n",
       "26           27         0       3        Emir, Mr. Farred Chehab    male  NaN   \n",
       "28           29         1       3  O'Dwyer, Miss. Ellen \"Nellie\"  female  NaN   \n",
       "\n",
       "    SibSp  Parch  Ticket     Fare Cabin Embarked  Female  Male  Pc1  Pc2  Pc3  \\\n",
       "5       0      0  330877   8.4583   NaN        Q       0     1    0    0    1   \n",
       "17      0      0  244373  13.0000   NaN        S       0     1    0    1    0   \n",
       "19      0      0    2649   7.2250   NaN        C       1     0    0    0    1   \n",
       "26      0      0    2631   7.2250   NaN        C       0     1    0    0    1   \n",
       "28      0      0  330959   7.8792   NaN        Q       1     0    0    0    1   \n",
       "\n",
       "    Emb_C  Emb_Q  Emb_S  \n",
       "5       0      1      0  \n",
       "17      0      0      1  \n",
       "19      1      0      0  \n",
       "26      1      0      0  \n",
       "28      0      1      0  "
      ]
     },
     "execution_count": 12,
     "metadata": {},
     "output_type": "execute_result"
    }
   ],
   "source": [
    "# Explore passengers whose 'Age' is NaN\n",
    "data[data.Age.isnull()].head()"
   ]
  },
  {
   "cell_type": "markdown",
   "metadata": {},
   "source": [
    "Children tend to have the titles of \"Master\", and \"Miss\".  I would also pressume that any female with the title of \"Mrs\" to be married and considered an adult, though they seemed to get married a lot younger back then.  The sample contains a few passengers with the 'Title' of \"Mr\" and \"Mrs\" who are less than 18 years old.  Anyways, extracting titles from the 'Name' variable seems like a promising avenue to distinguish adults and children.  A new variable 'Title' shall be created."
   ]
  },
  {
   "cell_type": "code",
   "execution_count": 13,
   "metadata": {},
   "outputs": [
    {
     "data": {
      "text/plain": [
       "count     891\n",
       "unique     17\n",
       "top        Mr\n",
       "freq      517\n",
       "Name: Title, dtype: object"
      ]
     },
     "execution_count": 13,
     "metadata": {},
     "output_type": "execute_result"
    }
   ],
   "source": [
    "# Create a new variable 'Title'\n",
    "# extract the string that preceeds a \".\"\n",
    "# Quickly confirm that the operation was performed properly\n",
    "import re\n",
    "regex = re.compile('([A-Za-z]+)\\.')\n",
    "data['Title'] = data.Name.str.extract(regex, expand = True)\n",
    "data['Title'].describe()"
   ]
  },
  {
   "cell_type": "markdown",
   "metadata": {},
   "source": [
    "Fortunately for us, every passenger in our sample has a title.  Let us compare 'Title' to 'Sex' and get an idea of what was produced."
   ]
  },
  {
   "cell_type": "code",
   "execution_count": 14,
   "metadata": {},
   "outputs": [
    {
     "data": {
      "text/html": [
       "<div>\n",
       "<style scoped>\n",
       "    .dataframe tbody tr th:only-of-type {\n",
       "        vertical-align: middle;\n",
       "    }\n",
       "\n",
       "    .dataframe tbody tr th {\n",
       "        vertical-align: top;\n",
       "    }\n",
       "\n",
       "    .dataframe thead th {\n",
       "        text-align: right;\n",
       "    }\n",
       "</style>\n",
       "<table border=\"1\" class=\"dataframe\">\n",
       "  <thead>\n",
       "    <tr style=\"text-align: right;\">\n",
       "      <th>Sex</th>\n",
       "      <th>female</th>\n",
       "      <th>male</th>\n",
       "    </tr>\n",
       "    <tr>\n",
       "      <th>Title</th>\n",
       "      <th></th>\n",
       "      <th></th>\n",
       "    </tr>\n",
       "  </thead>\n",
       "  <tbody>\n",
       "    <tr>\n",
       "      <th>Capt</th>\n",
       "      <td>0.0</td>\n",
       "      <td>1.0</td>\n",
       "    </tr>\n",
       "    <tr>\n",
       "      <th>Col</th>\n",
       "      <td>0.0</td>\n",
       "      <td>2.0</td>\n",
       "    </tr>\n",
       "    <tr>\n",
       "      <th>Countess</th>\n",
       "      <td>1.0</td>\n",
       "      <td>0.0</td>\n",
       "    </tr>\n",
       "    <tr>\n",
       "      <th>Don</th>\n",
       "      <td>0.0</td>\n",
       "      <td>1.0</td>\n",
       "    </tr>\n",
       "    <tr>\n",
       "      <th>Dr</th>\n",
       "      <td>1.0</td>\n",
       "      <td>6.0</td>\n",
       "    </tr>\n",
       "    <tr>\n",
       "      <th>Jonkheer</th>\n",
       "      <td>0.0</td>\n",
       "      <td>1.0</td>\n",
       "    </tr>\n",
       "    <tr>\n",
       "      <th>Lady</th>\n",
       "      <td>1.0</td>\n",
       "      <td>0.0</td>\n",
       "    </tr>\n",
       "    <tr>\n",
       "      <th>Major</th>\n",
       "      <td>0.0</td>\n",
       "      <td>2.0</td>\n",
       "    </tr>\n",
       "    <tr>\n",
       "      <th>Master</th>\n",
       "      <td>0.0</td>\n",
       "      <td>40.0</td>\n",
       "    </tr>\n",
       "    <tr>\n",
       "      <th>Miss</th>\n",
       "      <td>182.0</td>\n",
       "      <td>0.0</td>\n",
       "    </tr>\n",
       "    <tr>\n",
       "      <th>Mlle</th>\n",
       "      <td>2.0</td>\n",
       "      <td>0.0</td>\n",
       "    </tr>\n",
       "    <tr>\n",
       "      <th>Mme</th>\n",
       "      <td>1.0</td>\n",
       "      <td>0.0</td>\n",
       "    </tr>\n",
       "    <tr>\n",
       "      <th>Mr</th>\n",
       "      <td>0.0</td>\n",
       "      <td>517.0</td>\n",
       "    </tr>\n",
       "    <tr>\n",
       "      <th>Mrs</th>\n",
       "      <td>125.0</td>\n",
       "      <td>0.0</td>\n",
       "    </tr>\n",
       "    <tr>\n",
       "      <th>Ms</th>\n",
       "      <td>1.0</td>\n",
       "      <td>0.0</td>\n",
       "    </tr>\n",
       "    <tr>\n",
       "      <th>Rev</th>\n",
       "      <td>0.0</td>\n",
       "      <td>6.0</td>\n",
       "    </tr>\n",
       "    <tr>\n",
       "      <th>Sir</th>\n",
       "      <td>0.0</td>\n",
       "      <td>1.0</td>\n",
       "    </tr>\n",
       "  </tbody>\n",
       "</table>\n",
       "</div>"
      ],
      "text/plain": [
       "Sex       female   male\n",
       "Title                  \n",
       "Capt         0.0    1.0\n",
       "Col          0.0    2.0\n",
       "Countess     1.0    0.0\n",
       "Don          0.0    1.0\n",
       "Dr           1.0    6.0\n",
       "Jonkheer     0.0    1.0\n",
       "Lady         1.0    0.0\n",
       "Major        0.0    2.0\n",
       "Master       0.0   40.0\n",
       "Miss       182.0    0.0\n",
       "Mlle         2.0    0.0\n",
       "Mme          1.0    0.0\n",
       "Mr           0.0  517.0\n",
       "Mrs        125.0    0.0\n",
       "Ms           1.0    0.0\n",
       "Rev          0.0    6.0\n",
       "Sir          0.0    1.0"
      ]
     },
     "execution_count": 14,
     "metadata": {},
     "output_type": "execute_result"
    }
   ],
   "source": [
    "# Compare 'Title' and 'Sex'\n",
    "data.pivot_table('Name', index = 'Title', columns = ['Sex'], aggfunc =('count')).fillna(0)"
   ]
  },
  {
   "cell_type": "markdown",
   "metadata": {},
   "source": [
    "### Survival of Captain\n",
    "\n",
    "Now that each passenger has a title, we can determine if \"The captain goes down with the ship\"."
   ]
  },
  {
   "cell_type": "code",
   "execution_count": 15,
   "metadata": {},
   "outputs": [
    {
     "data": {
      "text/html": [
       "<div>\n",
       "<style scoped>\n",
       "    .dataframe tbody tr th:only-of-type {\n",
       "        vertical-align: middle;\n",
       "    }\n",
       "\n",
       "    .dataframe tbody tr th {\n",
       "        vertical-align: top;\n",
       "    }\n",
       "\n",
       "    .dataframe thead th {\n",
       "        text-align: right;\n",
       "    }\n",
       "</style>\n",
       "<table border=\"1\" class=\"dataframe\">\n",
       "  <thead>\n",
       "    <tr style=\"text-align: right;\">\n",
       "      <th></th>\n",
       "      <th>PassengerId</th>\n",
       "      <th>Survived</th>\n",
       "      <th>Pclass</th>\n",
       "      <th>Name</th>\n",
       "      <th>Sex</th>\n",
       "      <th>Age</th>\n",
       "      <th>SibSp</th>\n",
       "      <th>Parch</th>\n",
       "      <th>Ticket</th>\n",
       "      <th>Fare</th>\n",
       "      <th>...</th>\n",
       "      <th>Embarked</th>\n",
       "      <th>Female</th>\n",
       "      <th>Male</th>\n",
       "      <th>Pc1</th>\n",
       "      <th>Pc2</th>\n",
       "      <th>Pc3</th>\n",
       "      <th>Emb_C</th>\n",
       "      <th>Emb_Q</th>\n",
       "      <th>Emb_S</th>\n",
       "      <th>Title</th>\n",
       "    </tr>\n",
       "  </thead>\n",
       "  <tbody>\n",
       "    <tr>\n",
       "      <th>745</th>\n",
       "      <td>746</td>\n",
       "      <td>0</td>\n",
       "      <td>1</td>\n",
       "      <td>Crosby, Capt. Edward Gifford</td>\n",
       "      <td>male</td>\n",
       "      <td>70.0</td>\n",
       "      <td>1</td>\n",
       "      <td>1</td>\n",
       "      <td>WE/P 5735</td>\n",
       "      <td>71.0</td>\n",
       "      <td>...</td>\n",
       "      <td>S</td>\n",
       "      <td>0</td>\n",
       "      <td>1</td>\n",
       "      <td>1</td>\n",
       "      <td>0</td>\n",
       "      <td>0</td>\n",
       "      <td>0</td>\n",
       "      <td>0</td>\n",
       "      <td>1</td>\n",
       "      <td>Capt</td>\n",
       "    </tr>\n",
       "  </tbody>\n",
       "</table>\n",
       "<p>1 rows × 21 columns</p>\n",
       "</div>"
      ],
      "text/plain": [
       "     PassengerId  Survived  Pclass                          Name   Sex   Age  \\\n",
       "745          746         0       1  Crosby, Capt. Edward Gifford  male  70.0   \n",
       "\n",
       "     SibSp  Parch     Ticket  Fare  ...   Embarked Female  Male  Pc1  Pc2  \\\n",
       "745      1      1  WE/P 5735  71.0  ...          S      0     1    1    0   \n",
       "\n",
       "     Pc3  Emb_C  Emb_Q  Emb_S  Title  \n",
       "745    0      0      0      1   Capt  \n",
       "\n",
       "[1 rows x 21 columns]"
      ]
     },
     "execution_count": 15,
     "metadata": {},
     "output_type": "execute_result"
    }
   ],
   "source": [
    "data[data.Title == 'Capt']"
   ]
  },
  {
   "cell_type": "markdown",
   "metadata": {},
   "source": [
    "It appears he did, but I advise caution when making conclusions about one sample."
   ]
  },
  {
   "cell_type": "markdown",
   "metadata": {},
   "source": [
    "### Create Boarding Groups\n",
    "\n",
    "I will create the new variables 'Child', 'Man', and 'Woman' which I will refer to as boarding groups.  The 'Child' variable with be true if the passenger is less than 18-years-old.  The 'Man' and 'Woman' variables with be true if the passenger is 18 years and older along and their 'Sex' corresponds to what is considered a man or woman."
   ]
  },
  {
   "cell_type": "code",
   "execution_count": 16,
   "metadata": {},
   "outputs": [],
   "source": [
    "# Define Child and Adult status by age\n",
    "age_cutoff = 18\n",
    "data['Child'] = (data.Age < age_cutoff).astype(int)\n",
    "data['Woman'] = (data[data.Sex=='female'].Age>=age_cutoff).astype(int)\n",
    "data['Man'] = (data[data.Sex=='male'].Age>=age_cutoff).astype(int)\n",
    "data['Woman'] = (data['Woman']).fillna(0)\n",
    "data['Man'] = (data['Man']).fillna(0)"
   ]
  },
  {
   "cell_type": "code",
   "execution_count": 17,
   "metadata": {},
   "outputs": [
    {
     "data": {
      "text/plain": [
       "714.0"
      ]
     },
     "execution_count": 17,
     "metadata": {},
     "output_type": "execute_result"
    }
   ],
   "source": [
    "# How much of the sample has been categorized?\n",
    "data['Child'].sum()+data['Woman'].sum()+data['Man'].sum()"
   ]
  },
  {
   "cell_type": "code",
   "execution_count": 18,
   "metadata": {},
   "outputs": [
    {
     "data": {
      "text/plain": [
       "177"
      ]
     },
     "execution_count": 18,
     "metadata": {},
     "output_type": "execute_result"
    }
   ],
   "source": [
    "data.Age.isnull().sum()"
   ]
  },
  {
   "cell_type": "markdown",
   "metadata": {},
   "source": [
    "177 passengers have 'Age' == to NaN.  Now I will try to use the 'Title' variable to determine a boarding group for passengers whose 'Age' is NaN.  All those with the 'Title' \"Mrs\" will be classified as 'Woman', those with \"Mr\", as 'Man', and those with \"Master\" as 'Child'.  Already, there have been some passengers whose 'Title' was either \"Mr\" or \"Mrs\" who have been classified as children because of their age.  They will not be reclassified, their 'Age' will take precedence in this categorization."
   ]
  },
  {
   "cell_type": "code",
   "execution_count": 19,
   "metadata": {},
   "outputs": [
    {
     "data": {
      "text/plain": [
       "854.0"
      ]
     },
     "execution_count": 19,
     "metadata": {},
     "output_type": "execute_result"
    }
   ],
   "source": [
    "mask_m = (data.Age.isnull()) & (data.Title == 'Mr')\n",
    "mask_w = (data.Age.isnull()) & (data.Title == 'Mrs')\n",
    "mask_c = (data.Age.isnull()) & (data.Title =='Master')\n",
    "data.loc[mask_m,'Man'] = 1\n",
    "data.loc[mask_w, 'Woman'] =1\n",
    "data.loc[mask_c, 'Child'] = 1\n",
    "\n",
    "# How much of the sample has been categorized?\n",
    "data['Child'].sum()+data['Woman'].sum()+data['Man'].sum()"
   ]
  },
  {
   "cell_type": "markdown",
   "metadata": {},
   "source": [
    "140 of the 'Age' == NaN have been categorized using the 'Title' variable.  Is there any more categorization that can be performed on the 'Title' variable?  What titles remain to be categorized?"
   ]
  },
  {
   "cell_type": "code",
   "execution_count": 20,
   "metadata": {},
   "outputs": [
    {
     "data": {
      "text/plain": [
       "array(['Miss', 'Dr'], dtype=object)"
      ]
     },
     "execution_count": 20,
     "metadata": {},
     "output_type": "execute_result"
    }
   ],
   "source": [
    "# What unique titles remain in our group of uncategorized passengers?\n",
    "data[data.Man ==0].loc[data.Woman ==0].loc[data.Child==0].Title.unique()"
   ]
  },
  {
   "cell_type": "markdown",
   "metadata": {},
   "source": [
    "As expected, 'Miss' is among the uncategorized since they could be children or unmarried women.  Passengers whose 'Title' is 'Dr' are most likely an adults.  More generally, let us categorize anyone who doesn't have the 'Title' of 'Miss' as adults."
   ]
  },
  {
   "cell_type": "code",
   "execution_count": 21,
   "metadata": {},
   "outputs": [
    {
     "data": {
      "text/plain": [
       "855.0"
      ]
     },
     "execution_count": 21,
     "metadata": {},
     "output_type": "execute_result"
    }
   ],
   "source": [
    "# Categorize those without the 'Title' 'Miss' as adults, either 'Man' or 'Woman'\n",
    "\n",
    "mask_m = ((data.Man == 0) & (data.Woman == 0) & (data.Child == 0) & (data.Title != 'Miss') \n",
    "          & (data.Sex == 'male'))\n",
    "mask_w = ((data.Man == 0) & (data.Woman == 0) & (data.Child == 0) & (data.Title != 'Miss') \n",
    "          & (data.Sex == 'female'))\n",
    "data.loc[mask_m, 'Man'] = 1\n",
    "data.loc[mask_w, 'Woman'] =1\n",
    "\n",
    "# How much of the sample has been categorized?\n",
    "data['Child'].sum()+data['Woman'].sum()+data['Man'].sum()"
   ]
  },
  {
   "cell_type": "markdown",
   "metadata": {},
   "source": [
    "Now all that remain uncategorized are females with the 'Title' of \"Miss\".  Assuming all are unwed, if 'SibSp' is greater than 0, that means they have siblings aboard.  It is possible for adult siblings to be travelling together, but I am going to assume this is unlikely and assert that if 'SibSp' is not 0, then the passenger is a child.  Also along that line of reasoning, if 'Parch' is not 0, then the passenger has a parent aboard or has a child.  This could occur among adults and unwed mothers, but I am again going to assume this is unlikely and categorize these passengers as children."
   ]
  },
  {
   "cell_type": "code",
   "execution_count": 22,
   "metadata": {},
   "outputs": [
    {
     "data": {
      "text/plain": [
       "869.0"
      ]
     },
     "execution_count": 22,
     "metadata": {},
     "output_type": "execute_result"
    }
   ],
   "source": [
    "# Categorize 'Miss' passengers who have SibSp or Parch greater than 0 as children\n",
    "mask_c = (data.Child ==0) & (data.Woman ==0) & (data.Man ==0) & (data.SibSp > 0)\n",
    "data.loc[mask_c, 'Child'] =1\n",
    "mask_c = (data.Child ==0) & (data.Woman ==0) & (data.Man ==0) & (data.Parch > 0)\n",
    "data.loc[mask_c, 'Child'] =1\n",
    "\n",
    "# How much of the sample has been categorized?\n",
    "data['Child'].sum()+data['Woman'].sum()+data['Man'].sum()"
   ]
  },
  {
   "cell_type": "markdown",
   "metadata": {},
   "source": [
    "Now we are left with 22 passengers out of the original 177 passengers whose 'Age' was NaN.  They all have the 'Title' of \"Miss\".  They can all be characterized as travelling solo.  How do we decide whether they are 'Woman' or 'Child'?  Travelling solo doesn't seem like something a child should do so can we make an assumption about where to place these solo females?"
   ]
  },
  {
   "cell_type": "code",
   "execution_count": 23,
   "metadata": {},
   "outputs": [
    {
     "data": {
      "text/plain": [
       "4.167464114832535"
      ]
     },
     "execution_count": 23,
     "metadata": {},
     "output_type": "execute_result"
    }
   ],
   "source": [
    "# Are women with the 'Title' \"Miss\" more likely to travel solo than children with 'Title' of \"Miss\"\n",
    "miss_child = data[data.Child == 1].loc[data.Title == 'Miss'].PassengerId.count()\n",
    "# 65 children with Title Miss\n",
    "solo_miss_child = (data[data.Child == 1].loc[data.Title == 'Miss'].loc[data.SibSp == 0]\n",
    "                   .loc[data.Parch ==0].PassengerId.count())\n",
    "# 11 of them are travelling solo most are teenagers, one is 5 years old.\n",
    "\n",
    "miss_woman = data[data.Woman == 1].loc[data.Title == 'Miss'].PassengerId.count()\n",
    "# 95 Women with the Title Miss\n",
    "solo_miss_woman = (data[data.Woman == 1].loc[data.Title == 'Miss'].loc[data.SibSp == 0]\n",
    "                   .loc[data.Parch ==0].PassengerId.count())\n",
    "# 67 are travelling solo\n",
    "(solo_miss_woman/miss_woman)/(solo_miss_child/miss_child)\n",
    "# Women with title of Miss are 4.2 times more likely to travel solo than girls"
   ]
  },
  {
   "cell_type": "code",
   "execution_count": 24,
   "metadata": {},
   "outputs": [
    {
     "data": {
      "text/plain": [
       "1.6911148839841539"
      ]
     },
     "execution_count": 24,
     "metadata": {},
     "output_type": "execute_result"
    }
   ],
   "source": [
    "# Are women with the 'Title' \"Miss\" more likely to travel solo than those with 'Title' \"Mrs\"\n",
    "woman = data[data.Woman == 1].PassengerId.count()\n",
    "# 233 women\n",
    "solo_woman = data[data.Woman ==1].loc[data.SibSp ==0].loc[data.Parch ==0].PassengerId.count()\n",
    "# 93 are travelling solo\n",
    "(solo_miss_woman/miss_woman)/(solo_woman/woman)\n",
    "# Women with title of Miss are 1.7 times more likely to travel solo those with title of Mrs"
   ]
  },
  {
   "cell_type": "code",
   "execution_count": 25,
   "metadata": {},
   "outputs": [
    {
     "data": {
      "text/plain": [
       "4.002912621359224"
      ]
     },
     "execution_count": 25,
     "metadata": {},
     "output_type": "execute_result"
    }
   ],
   "source": [
    "# Do men travel solo more than boys?\n",
    "boy = data[data.Child == 1].loc[data.Sex == 'male'].PassengerId.count()\n",
    "# 62 male children\n",
    "solo_boy = (data[data.Child == 1].loc[data.Sex == 'male'].loc[data.SibSp == 0]\n",
    "            .loc[data.Parch ==0].PassengerId.count())\n",
    "# 12 of them are travelling solo, all have the title Mr. ages 11-17\n",
    "man = data[data.Man ==1].PassengerId.count()\n",
    "# 515 Men\n",
    "solo_man = data[data.Man == 1].loc[data.SibSp == 0].loc[data.Parch ==0].PassengerId.count()\n",
    "# 399 are travelling solo\n",
    "(solo_man/man)/(solo_boy/boy)\n",
    "# Men are 4 times more likely to travel solo than boys"
   ]
  },
  {
   "cell_type": "markdown",
   "metadata": {},
   "source": [
    "I feel comfortable categorizing all the passengers whose 'Age' is NaN, title 'Miss, and who are travelling solo as 'Woman'.  Obviously I run a risk of miscategorizing some girls as women, but because more passengers with the 'Title' \"Miss\" are adults, and they are more likely to travel solo, I feel like this is a safe generalization.  Another option would be to distribute these passengers randomly based on the probability that they are adults or children from the rest of the ship sample, but I don't think this will make the analysis more accurate."
   ]
  },
  {
   "cell_type": "code",
   "execution_count": 26,
   "metadata": {},
   "outputs": [
    {
     "data": {
      "text/plain": [
       "891.0"
      ]
     },
     "execution_count": 26,
     "metadata": {},
     "output_type": "execute_result"
    }
   ],
   "source": [
    "# Create a mask for solo travelling Miss who are NaN old\n",
    "data[data.Man ==0].loc[data.Woman ==0].loc[data.Child==0]\n",
    "mask_miss_NaN = (data.Age.isnull()) & (data.Title == 'Miss') & (data.SibSp == 0) & (data.Parch ==0)\n",
    "\n",
    "# Assign these passengers to the 'Woman' group\n",
    "data.loc[mask_miss_NaN, 'Woman'] = 1\n",
    "\n",
    "# How much of the sample has been categorized?\n",
    "data['Child'].sum()+data['Woman'].sum()+data['Man'].sum()\n"
   ]
  },
  {
   "cell_type": "markdown",
   "metadata": {},
   "source": [
    "#### Summary of steps to identify Women, Children and Men\n",
    "\n",
    "Less than 18 years old, a child.  Otherwise a Man or Woman depending on 'Sex'  \n",
    "'Title' == 'Master' then child  \n",
    "'Title' == 'Mr' then man  \n",
    "'Title' == 'Mrs' then woman  \n",
    "If 'Title' != 'Miss', then probably an adult with a special title  \n",
    "If 'Title' == 'Miss' and SibSp' > 0 then Child  \n",
    "If 'Title' == 'Miss' and 'Parch' > 0 then Child  \n",
    "All remaining passengers are Women  "
   ]
  },
  {
   "cell_type": "markdown",
   "metadata": {},
   "source": [
    "All of the passengers fall under the boarding group categories 'Man', 'Woman', and 'Child' now.  What this boarding group categorization did was to seperate adults and children without knowing a the ages of a signicant portion of the sample.  What it did not do was assign an age to those whose 'Age' is NaN.  I could simply assign the median age of their respective boarding groups to samples whose 'Age' is NaN.  I could also distribute random ages to these samples based on the distribution of ages in their boarding groups.  Both seem like reasonable ways to wrangle the data.  However, 'Age' will not be studied at all in the rest of this analysis so I shall decline to perform this substitution."
   ]
  },
  {
   "cell_type": "markdown",
   "metadata": {},
   "source": [
    "### Survival and Boarding Group\n",
    "\n",
    "How did sex and childhood status affect survival?  The table below sums things up.  Being a woman correlated positively with survival.  Women survived at a rate of 78% vs. 16% for men.  Children survived at a higher rate than men.  Being a child seemed to increase survival for males but decrease it for females.  As for the \"Women and Children First\" expression, it seems accurate with women apparently boarding the lifeboats before the children."
   ]
  },
  {
   "cell_type": "code",
   "execution_count": 27,
   "metadata": {},
   "outputs": [
    {
     "data": {
      "text/html": [
       "<div>\n",
       "<style scoped>\n",
       "    .dataframe tbody tr th:only-of-type {\n",
       "        vertical-align: middle;\n",
       "    }\n",
       "\n",
       "    .dataframe tbody tr th {\n",
       "        vertical-align: top;\n",
       "    }\n",
       "\n",
       "    .dataframe thead th {\n",
       "        text-align: right;\n",
       "    }\n",
       "</style>\n",
       "<table border=\"1\" class=\"dataframe\">\n",
       "  <thead>\n",
       "    <tr style=\"text-align: right;\">\n",
       "      <th>Child</th>\n",
       "      <th>0</th>\n",
       "      <th>1</th>\n",
       "    </tr>\n",
       "    <tr>\n",
       "      <th>Sex</th>\n",
       "      <th></th>\n",
       "      <th></th>\n",
       "    </tr>\n",
       "  </thead>\n",
       "  <tbody>\n",
       "    <tr>\n",
       "      <th>female</th>\n",
       "      <td>0.775510</td>\n",
       "      <td>0.623188</td>\n",
       "    </tr>\n",
       "    <tr>\n",
       "      <th>male</th>\n",
       "      <td>0.163107</td>\n",
       "      <td>0.403226</td>\n",
       "    </tr>\n",
       "  </tbody>\n",
       "</table>\n",
       "</div>"
      ],
      "text/plain": [
       "Child          0         1\n",
       "Sex                       \n",
       "female  0.775510  0.623188\n",
       "male    0.163107  0.403226"
      ]
     },
     "execution_count": 27,
     "metadata": {},
     "output_type": "execute_result"
    }
   ],
   "source": [
    "# Survival Rates of Adults and Children by Sex\n",
    "data.pivot_table('Survived', index = 'Sex', columns = 'Child', aggfunc = 'mean')"
   ]
  },
  {
   "cell_type": "code",
   "execution_count": 28,
   "metadata": {},
   "outputs": [],
   "source": [
    "# Create dataframes of survivors and victims by boarding groups\n",
    "\n",
    "\n",
    "survivors = data.loc[data.Child == 0].loc[data.Survived == 1].pivot_table('Survived', index = 'Sex',\n",
    "                                                                          aggfunc = 'count')\n",
    "survivors.loc['Children']=data.loc[data.Child == 1].loc[data.Survived == 1]['Survived'].count()\n",
    "survivors = Series(survivors.values[:,0], index = ['Women', 'Men', 'Children'], name = 'Group')\n",
    "\n",
    "victims = data.loc[data.Child == 0].loc[data.Survived == 0].pivot_table('Survived', index = 'Sex', \n",
    "                                                                        aggfunc = 'count')\n",
    "victims.loc['Children']= data.loc[data.Child ==1].loc[data.Survived ==0]['Survived'].count()\n",
    "victims = Series(victims.values[:,0], index = ['Women', 'Men', 'Children'], name = 'Group')"
   ]
  },
  {
   "cell_type": "code",
   "execution_count": 29,
   "metadata": {},
   "outputs": [
    {
     "data": {
      "image/png": "[encoded data removed]",
      "text/plain": [
       "<matplotlib.figure.Figure at 0x7a00773f93c8>"
      ]
     },
     "metadata": {},
     "output_type": "display_data"
    }
   ],
   "source": [
    "# Plot survival of boarding groups\n",
    "\n",
    "fig, (ax1, ax2) = plt.subplots(nrows = 2, ncols = 1, figsize= (12,8))\n",
    "fig = survivors.plot.bar(ax = ax1)\n",
    "victims.apply(lambda x: -x).plot.bar(ax= ax1, hatch = 'x', color = 'r')\n",
    "\n",
    "ax1.legend([ 'Survivors', 'Victims'])\n",
    "ax1.axhline(0, color = 'k', linestyle = '--')\n",
    "ax1.set_ylim([-500, 250])\n",
    "ticks =  ax1.get_yticks()\n",
    "ax1.set_yticklabels([int(abs(tick)) for tick in ticks])\n",
    "ax1.set_xticklabels(ax1.xaxis.get_majorticklabels(), rotation =0)\n",
    "ax1.set_ylabel('Count')\n",
    "ax1.set_title('Survival by Boarding Group')\n",
    "\n",
    "x_offset = -0.03\n",
    "y_offset = 10\n",
    "y_drop = -40\n",
    "\n",
    "for p in [0,1,2]:\n",
    "    b = ax1.patches[p].get_bbox()\n",
    "    val = \"{:.2f}\".format(b.y1 + b.y0)        \n",
    "    ax1.annotate(val, ((b.x0 + b.x1)/2 + x_offset, b.y1 + y_offset))\n",
    "\n",
    "for p in [3,4,5]:\n",
    "    b = ax1.patches[p].get_bbox()\n",
    "    val = \"{:.2f}\".format(abs(b.y1 + b.y0))        \n",
    "    ax1.annotate(val, ((b.x0 + b.x1)/2 + x_offset, b.y0 + y_drop))\n",
    "\n",
    "\n",
    "# Plot survival rates of Women, Men, and Children\n",
    "\n",
    "survival_rate = data[data.Child == 0].pivot_table('Survived', index = 'Sex', aggfunc = 'mean')\n",
    "survival_rate.loc['Children']=data[data.Child == 1]['Survived'].mean()\n",
    "survival_rate = Series(survival_rate.values[:,0], index = ['Women', 'Men', 'Children'], name = 'Group')\n",
    "\n",
    "survival_rate.plot.bar(ax = ax2, color = 'g')\n",
    "ax2.set_ylim([0,1])\n",
    "ax2.set_ylabel('Proportion of Survivors')\n",
    "ax2.set_title('Survival Rates by Boarding Group')\n",
    "ax2.set_xticklabels(ax2.xaxis.get_majorticklabels(), rotation =0)\n",
    "\n",
    "\n",
    "x_offset = -0.03\n",
    "y_offset = 0.02\n",
    "for p in ax2.patches:\n",
    "    b = p.get_bbox()\n",
    "    val = \"{:.2f}\".format(b.y1 + b.y0)        \n",
    "    ax2.annotate(val, ((b.x0 + b.x1)/2 + x_offset, b.y1 + y_offset))\n",
    "\n",
    "plt.tight_layout()\n",
    "plt.show()"
   ]
  },
  {
   "cell_type": "markdown",
   "metadata": {},
   "source": [
    "Supposing that the lifeboats were filled to capacity, it does appear that men took some seats that could have been occupied by women and children.  As it was, 118 women and children died in our sample.  If the men sacriced their seats, only 34 women or children would have perished.  In fact the men could have made the sacrifice which allowed either all the women or all the children to survive in our sample.  It seems as if the \"Women and Children First\" protocol was not followed by the 84 men who survived.  Of course the sample does not really tell us why this happened.\n",
    "\n",
    "Still women and children survived at rates 4.9 and 3.3 times higher than the men so one would expect that this protocol was followed somewhat.  The sample does show a correlation with being a woman or child with survival."
   ]
  },
  {
   "cell_type": "markdown",
   "metadata": {},
   "source": [
    "#### Passenger Class and Survival\n",
    "\n",
    "The variable 'Plcass' had a strong correlation with 'Survival' especially for those in first class and third class."
   ]
  },
  {
   "cell_type": "code",
   "execution_count": 30,
   "metadata": {},
   "outputs": [
    {
     "data": {
      "image/png": "[encoded data removed]",
      "text/plain": [
       "<matplotlib.figure.Figure at 0x7a0077701940>"
      ]
     },
     "metadata": {},
     "output_type": "display_data"
    }
   ],
   "source": [
    "# Plot proportion of 'Pclass' in pie chart\n",
    "\n",
    "df = None\n",
    "df = data.pivot_table('PassengerId', index = 'Pclass', aggfunc = 'count')\n",
    "\n",
    "df.plot.pie(subplots = True, labels = ['1st Class', '2nd Class', '3rd Class'], legend = False, \n",
    "           autopct = '%.1f')\n",
    "plt.title('Proportion of Passengers by Passenger Class')\n",
    "plt.ylabel('')\n",
    "plt.tight_layout()\n",
    "plt.show()"
   ]
  },
  {
   "cell_type": "code",
   "execution_count": 31,
   "metadata": {},
   "outputs": [
    {
     "data": {
      "text/html": [
       "<div>\n",
       "<style scoped>\n",
       "    .dataframe tbody tr th:only-of-type {\n",
       "        vertical-align: middle;\n",
       "    }\n",
       "\n",
       "    .dataframe tbody tr th {\n",
       "        vertical-align: top;\n",
       "    }\n",
       "\n",
       "    .dataframe thead th {\n",
       "        text-align: right;\n",
       "    }\n",
       "</style>\n",
       "<table border=\"1\" class=\"dataframe\">\n",
       "  <thead>\n",
       "    <tr style=\"text-align: right;\">\n",
       "      <th></th>\n",
       "      <th>Survived</th>\n",
       "    </tr>\n",
       "    <tr>\n",
       "      <th>Pclass</th>\n",
       "      <th></th>\n",
       "    </tr>\n",
       "  </thead>\n",
       "  <tbody>\n",
       "    <tr>\n",
       "      <th>1</th>\n",
       "      <td>0.629630</td>\n",
       "    </tr>\n",
       "    <tr>\n",
       "      <th>2</th>\n",
       "      <td>0.472826</td>\n",
       "    </tr>\n",
       "    <tr>\n",
       "      <th>3</th>\n",
       "      <td>0.242363</td>\n",
       "    </tr>\n",
       "  </tbody>\n",
       "</table>\n",
       "</div>"
      ],
      "text/plain": [
       "        Survived\n",
       "Pclass          \n",
       "1       0.629630\n",
       "2       0.472826\n",
       "3       0.242363"
      ]
     },
     "execution_count": 31,
     "metadata": {},
     "output_type": "execute_result"
    }
   ],
   "source": [
    "data[['Survived', 'Pclass']].groupby('Pclass').mean()"
   ]
  },
  {
   "cell_type": "code",
   "execution_count": 32,
   "metadata": {},
   "outputs": [
    {
     "data": {
      "text/plain": [
       "2.597883597883598"
      ]
     },
     "execution_count": 32,
     "metadata": {},
     "output_type": "execute_result"
    }
   ],
   "source": [
    "# Survival rate of 1st class vs. 3rd\n",
    "data[data.Pclass ==1].Survived.mean()/data[data.Pclass==3].Survived.mean()"
   ]
  },
  {
   "cell_type": "code",
   "execution_count": 33,
   "metadata": {},
   "outputs": [
    {
     "data": {
      "text/plain": [
       "0.6775956284153005"
      ]
     },
     "execution_count": 33,
     "metadata": {},
     "output_type": "execute_result"
    }
   ],
   "source": [
    "# What percentage of victims were in third class\n",
    "data[data.Survived ==0].Pc3.mean()"
   ]
  },
  {
   "cell_type": "markdown",
   "metadata": {},
   "source": [
    "From above we see an almost linear relationship between 'Pclass', and the rate of survival.  This translates into first class passengers chance of survival being 2.6 times greater than third class passengers.  Combined with the fact that 55% of passengers were in third class, we find that 68% of the passengers who perished were in third class."
   ]
  },
  {
   "cell_type": "markdown",
   "metadata": {},
   "source": [
    "The plot below illustrates that first class males had a higher survival rate than the other males.  We also see how being in third class meant much lower survival rates for both women and children."
   ]
  },
  {
   "cell_type": "code",
   "execution_count": 34,
   "metadata": {},
   "outputs": [],
   "source": [
    "# Create dataframes for survivors, victims and survival rate\n",
    "\n",
    "survivors = DataFrame(columns = np.unique(data.Pclass.values))\n",
    "\n",
    "survivors = survivors.append(data[data.Woman ==1].pivot_table('Survived', columns = 'Pclass',\n",
    "                                                             aggfunc = 'sum'))\n",
    "survivors = survivors.append(data[data.Man ==1].pivot_table('Survived', columns = 'Pclass',\n",
    "                                                         aggfunc = 'sum'))\n",
    "survivors = survivors.append(data[data.Child ==1].pivot_table('Survived', columns = 'Pclass',\n",
    "                                                         aggfunc = 'sum'))\n",
    "survivors.columns = ['1st Class', '2nd Class', '3rd Class']\n",
    "\n",
    "\n",
    "survivors.index = ['Women', 'Men', 'Children']\n",
    "\n",
    "victims = DataFrame(columns = np.unique(data.Pclass.values))\n",
    "victims = victims.append(data[data.Woman ==1].loc[data.Survived ==0].pivot_table('Survived', columns = 'Pclass',\n",
    "                                                                               aggfunc = 'count'))\n",
    "victims = victims.append(data[data.Man ==1].loc[data.Survived ==0].pivot_table('Survived', columns = 'Pclass', \n",
    "                                                                           aggfunc = 'count'))\n",
    "victims = victims.append(data[data.Child ==1].loc[data.Survived ==0].pivot_table('Survived', \n",
    "                                                                                  columns = 'Pclass', \n",
    "                                                                                  aggfunc = 'count'))\n",
    "victims.index = ['Women', 'Men', 'Children']\n",
    "\n",
    "survival_rate = DataFrame(columns = np.unique(data.Pclass.values))\n",
    "survival_rate = survival_rate.append(data[data.Woman == 1].pivot_table('Survived', columns = 'Pclass',\n",
    "                                                               aggfunc = 'mean'))\n",
    "survival_rate = survival_rate.append(data[data.Man == 1].pivot_table('Survived', columns = 'Pclass',\n",
    "                                                               aggfunc = 'mean'))\n",
    "survival_rate = survival_rate.append(data[data.Child == 1].pivot_table('Survived', columns = 'Pclass',\n",
    "                                                                 aggfunc = 'mean'))\n",
    "survival_rate.columns = ['1st Class', '2nd Class', '3rd Class']\n",
    "survival_rate.index = ['Women', 'Men', 'Children']\n"
   ]
  },
  {
   "cell_type": "code",
   "execution_count": 35,
   "metadata": {},
   "outputs": [
    {
     "data": {
      "image/png": "[encoded data removed]",
      "text/plain": [
       "<matplotlib.figure.Figure at 0x7a00776a2e80>"
      ]
     },
     "metadata": {},
     "output_type": "display_data"
    }
   ],
   "source": [
    "# Plot survival for passenger class and boarding group\n",
    "\n",
    "fig, (ax1, ax2) = plt.subplots(nrows = 2, ncols =1, figsize = (12,8))\n",
    "fig = survivors.plot.bar(ax = ax1)\n",
    "victims.apply(lambda x: -x).plot.bar(ax = ax1, hatch = 'x')\n",
    "\n",
    "ax1.legend(['1st Class Survivors', '2nd Class Survivors', '3rd Class Survivors', \n",
    "            '1st Class Victims', '2nd Class Victims', '3rd Class Victims'])\n",
    "ax1.axhline(0, color = 'k', linestyle = '--')\n",
    "ax1.set_xticklabels(ax1.xaxis.get_majorticklabels(), rotation = 0)\n",
    "ax1.set_ylabel('Frequency')\n",
    "ax1.set_ylim([-300, 100])\n",
    "ticks =  ax1.get_yticks()\n",
    "ax1.set_yticklabels([int(abs(tick)) for tick in ticks])\n",
    "\n",
    "ax1.set_title('Survival of Boarding Groups by Passenger Class')\n",
    "\n",
    "x_offset = -0.04\n",
    "y_offset = 10\n",
    "y_drop = -20\n",
    "for p in np.arange(0,9):\n",
    "    b = ax1.patches[p].get_bbox()\n",
    "    val = \"{:.0f}\".format(b.y1 + b.y0)        \n",
    "    ax1.annotate(val, ((b.x0 + b.x1)/2 + x_offset, b.y1 + y_offset))\n",
    "\n",
    "for p in np.arange(9,18):\n",
    "    b = ax1.patches[p].get_bbox()\n",
    "    val = \"{:.0f}\".format(abs(b.y1 + b.y0))        \n",
    "    ax1.annotate(val, ((b.x0 + b.x1)/2 + x_offset, b.y0 + y_drop))\n",
    "\n",
    "# Plot survival rates of Boarding Groups by Passenger Class\n",
    "\n",
    "survival_rate.plot.bar(ax = ax2)\n",
    "ax2.set_ylim([0,1])\n",
    "ax2.set_ylabel('Proportion of Survivors')\n",
    "ax2.legend()\n",
    "ax2.set_title('Survival Rates of Boarding Groups by Passenger Class')\n",
    "ax2.set_xticklabels(ax2.xaxis.get_majorticklabels(), rotation = 0)\n",
    "\n",
    "x_offset = -0.04\n",
    "y_offset = 0.01\n",
    "for p in ax2.patches:\n",
    "    b = p.get_bbox()\n",
    "    val = \"{:.2f}\".format(b.y1 + b.y0)        \n",
    "    ax2.annotate(val, ((b.x0 + b.x1)/2 + x_offset, b.y1 + y_offset))\n",
    "\n",
    "plt.tight_layout()\n",
    "plt.show()"
   ]
  },
  {
   "cell_type": "markdown",
   "metadata": {},
   "source": [
    "Another aspect of these plots that is worth considering is how most of the male passengers travelled 3rd class.  Being male has already shown a strong negative correlation with survival so it should be no surprise that 3rd class passengers overall had low survival rates.  However, the fact that 1st class women men and children survived at rates 1.9 to 2.6 times higher than their 3rd class counterparts underscores how 'Pclass' correlates with 'Survived'."
   ]
  },
  {
   "cell_type": "markdown",
   "metadata": {},
   "source": [
    "#### Fare Paid and Survival  \n",
    "There is a positive correlation between 'Fare' and 'Survived'.  I would assume that 'Fare' and 'Pclass' are also positively correlated to eachother which is why they are both positively correlated with 'Survived'.  How strong is this correlation?\n",
    "\n",
    "Also, does 'Fare' also correlate positively with 'Woman' which we already know has the strongest positive correlation with 'Survived'?"
   ]
  },
  {
   "cell_type": "code",
   "execution_count": 36,
   "metadata": {},
   "outputs": [
    {
     "data": {
      "text/plain": [
       "Fare           1.000000\n",
       "Pc1            0.591711\n",
       "Emb_C          0.269335\n",
       "Survived       0.257307\n",
       "Parch          0.216225\n",
       "Woman          0.194454\n",
       "Female         0.182333\n",
       "SibSp          0.159651\n",
       "Age            0.096067\n",
       "PassengerId    0.012658\n",
       "Child         -0.008540\n",
       "Emb_Q         -0.117216\n",
       "Pc2           -0.118557\n",
       "Emb_S         -0.166603\n",
       "Man           -0.169676\n",
       "Male          -0.182333\n",
       "Pc3           -0.413333\n",
       "Pclass        -0.549500\n",
       "Name: Fare, dtype: float64"
      ]
     },
     "execution_count": 36,
     "metadata": {},
     "output_type": "execute_result"
    }
   ],
   "source": [
    "# How does 'Fare' correlate with other variables\n",
    "data.corr().Fare.sort_values(ascending = False)"
   ]
  },
  {
   "cell_type": "markdown",
   "metadata": {},
   "source": [
    "Indeed, 'Fare' does strongly correlate with 'Pclass'.  'Fare' and 'Woman' also have a positive correlation.  This simply means that 1st class passengers and females tended to pay more and it has already been shown that these variables predict survival well.  The fact that 'Fare' correlates with 'Survived' is consistent with what has already been analyzed in the 'Woman', 'Man', 'Child' and 'Pclass' variables.  \n",
    "\n",
    "What can plotting the 'Fare' illustrate for us?"
   ]
  },
  {
   "cell_type": "code",
   "execution_count": 37,
   "metadata": {
    "scrolled": false
   },
   "outputs": [
    {
     "name": "stderr",
     "output_type": "stream",
     "text": [
      "/home/jeff/anaconda3/lib/python3.6/site-packages/ipykernel_launcher.py:36: RuntimeWarning: invalid value encountered in true_divide\n"
     ]
    },
    {
     "data": {
      "image/png": "[encoded data removed]",
      "text/plain": [
       "<matplotlib.figure.Figure at 0x7a007f0cf5c0>"
      ]
     },
     "metadata": {},
     "output_type": "display_data"
    }
   ],
   "source": [
    "# Plot 'Fare' as a histogram, include median fares for each 'Pclass'\n",
    "\n",
    "bin_width = 25\n",
    "lower_bound = -25\n",
    "upper_bound = 300\n",
    "bar_width = 20\n",
    "col_fare = 'y'\n",
    "col_rate = 'g'\n",
    "col_c1 = 'b'\n",
    "col_c2 = 'g'\n",
    "col_c3 = 'r'\n",
    "\n",
    "\n",
    "bins = np.arange(lower_bound, upper_bound, bin_width)\n",
    "index = bins[0:-1]\n",
    "\n",
    "\n",
    "fig, (ax1, ax2) = plt.subplots(2,1, figsize = (15,12))\n",
    "\n",
    "ax1.bar(index+0.5*bar_width, np.histogram(data.Fare, bins)[0], \n",
    "         width = bar_width, color = col_fare)\n",
    "ax1.set_xlim(lower_bound, upper_bound)\n",
    "\n",
    "ax1.axvline(data[data.Pclass == 1].Fare.median(), color = col_c1)\n",
    "ax1.axvline(data[data.Pclass == 2].Fare.median(), color = col_c2)\n",
    "ax1.axvline(data[data.Pclass == 3].Fare.median(), color = col_c3)\n",
    "\n",
    "ax1.set_ylabel('Count')\n",
    "ax1.set_xlabel('Fare ($)')\n",
    "ax1.set_title('Fare Histogram')\n",
    "\n",
    "\n",
    "# Plot fares vs. survival rate, include average survival rate for each 'Pclass'\n",
    "\n",
    "fare_rate = np.nan_to_num(np.histogram(data[data.Survived ==1].Fare,bins )[0]\n",
    "                          /np.histogram(data.Fare, bins)[0])\n",
    "\n",
    "\n",
    "ax2.bar(index+0.5*bar_width, fare_rate, \n",
    "        color = col_rate, width = bar_width)\n",
    "ax2.set_xlim(lower_bound, upper_bound)\n",
    "\n",
    "\n",
    "ax2.axvline(data[data.Pclass == 1].Fare.median(), color = col_c1)\n",
    "ax2.axvline(data[data.Pclass == 2].Fare.median(), color = col_c2)\n",
    "ax2.axvline(data[data.Pclass == 3].Fare.median(), color = col_c3)\n",
    "ax2.axhline(data[data.Pclass ==1].Survived.mean(), color = col_c1, linestyle = '--')\n",
    "ax2.axhline(data[data.Pclass ==2].Survived.mean(), color = col_c2, linestyle = '--')\n",
    "ax2.axhline(data[data.Pclass ==3].Survived.mean(), color = col_c3, linestyle = '--')\n",
    "ax2.set_ylabel('Survival Rate')\n",
    "ax2.set_xlabel('Fare ($)')\n",
    "ax2.set_title('Survival Rate vs. Fare')\n",
    "ax2.legend(['1st Class Median Fare', \n",
    "            '2nd Class Median Fare',\n",
    "            '3rd Class Median Fare',\n",
    "            '1st Class Survival Rate',\n",
    "            '2nd Class Survival Rate',\n",
    "            '3rd Class Survival Rate'])\n",
    "ax2.set_ylim(0,1)\n",
    "plt.subplots_adjust(hspace = .3)\n",
    "plt.show()\n"
   ]
  },
  {
   "cell_type": "markdown",
   "metadata": {},
   "source": [
    "The histograms show how most passengers paid less than $50 dollars for their tickets and this group of passengers had the lowest survival rate.  Passengers who paid more than the median fare for 1st class passengers had the best survival rates though their numbers are few.  \n",
    "\n",
    "Box plots of the fares paid will give a clearer understanding of what each passenger class paid.  It will also give us a chance to examine how 'Fare' relates to boarding groups."
   ]
  },
  {
   "cell_type": "code",
   "execution_count": 38,
   "metadata": {},
   "outputs": [
    {
     "data": {
      "image/png": "[encoded data removed]",
      "text/plain": [
       "<matplotlib.figure.Figure at 0x7a00777c8128>"
      ]
     },
     "metadata": {},
     "output_type": "display_data"
    }
   ],
   "source": [
    "# Box plot 'Fare' for 'Man', 'Woman', 'Child' and 'Pclass'\n",
    "\n",
    "df = DataFrame(columns = np.unique(data.Pclass.values))\n",
    "df['Fare'] = data['Fare']\n",
    "df[1] = data['Fare'].loc[data.Pclass ==1]\n",
    "df[2] = data['Fare'].loc[data.Pclass ==2]\n",
    "df[3] = data['Fare'].loc[data.Pclass ==3]\n",
    "df['Women'] = data['Fare'].loc[data.Woman ==1]\n",
    "df['Men'] = data['Fare'].loc[data.Man ==1]\n",
    "df['Children'] = data['Fare'].loc[data.Child==1]\n",
    "df.drop(['Fare'], axis =1, inplace = True)\n",
    "\n",
    "fig, ax = plt.subplots(figsize=(12, 4))\n",
    "fig = df.plot.box(vert = False, ax = ax)\n",
    "ax.set_xlim([0,175])\n",
    "ax.set_ylabel('Boarding Group or Passenger Class')\n",
    "ax.set_xlabel('Fare ($)')\n",
    "ax.set_title('Box Plots of Fares vs. Boarding Group or Passenger Class')\n",
    "plt.show()"
   ]
  },
  {
   "cell_type": "markdown",
   "metadata": {},
   "source": [
    "Now it should be clear how 'Fare' positively correlates with 'Survived'.  'Fare' also has a strong positive correlation to 'Pclass' and 'Woman' which have even stronger correlations with 'Survived'."
   ]
  },
  {
   "cell_type": "markdown",
   "metadata": {},
   "source": [
    "#### Summary of factors influencing survival\n",
    "\n",
    "The table below ranks the survival ranks of all the groups of passengers examined previously.  It also lists what proportion of the overall passengers and victims the group comprised of.  The a group is over or underrepresented in the victim totals is reflected in the 'Death Premium' column which is the proportion that the chance of perishing differs from the sample average.  The 'Death Premium' is simply the proportion of victims divided by the proportion of the sample."
   ]
  },
  {
   "cell_type": "code",
   "execution_count": 39,
   "metadata": {},
   "outputs": [
    {
     "data": {
      "text/html": [
       "<div>\n",
       "<style scoped>\n",
       "    .dataframe tbody tr th:only-of-type {\n",
       "        vertical-align: middle;\n",
       "    }\n",
       "\n",
       "    .dataframe tbody tr th {\n",
       "        vertical-align: top;\n",
       "    }\n",
       "\n",
       "    .dataframe thead th {\n",
       "        text-align: right;\n",
       "    }\n",
       "</style>\n",
       "<table border=\"1\" class=\"dataframe\">\n",
       "  <thead>\n",
       "    <tr style=\"text-align: right;\">\n",
       "      <th></th>\n",
       "      <th>Survival Rate</th>\n",
       "      <th>Count</th>\n",
       "      <th>Proportion Sample</th>\n",
       "      <th>Proportion Victims</th>\n",
       "      <th>Death Premium</th>\n",
       "    </tr>\n",
       "  </thead>\n",
       "  <tbody>\n",
       "    <tr>\n",
       "      <th>Women</th>\n",
       "      <td>0.775510</td>\n",
       "      <td>245.0</td>\n",
       "      <td>0.274972</td>\n",
       "      <td>0.100182</td>\n",
       "      <td>-0.635664</td>\n",
       "    </tr>\n",
       "    <tr>\n",
       "      <th>First Class</th>\n",
       "      <td>0.629630</td>\n",
       "      <td>216.0</td>\n",
       "      <td>0.242424</td>\n",
       "      <td>0.145719</td>\n",
       "      <td>-0.398907</td>\n",
       "    </tr>\n",
       "    <tr>\n",
       "      <th>Children</th>\n",
       "      <td>0.519084</td>\n",
       "      <td>131.0</td>\n",
       "      <td>0.147026</td>\n",
       "      <td>0.114754</td>\n",
       "      <td>-0.219497</td>\n",
       "    </tr>\n",
       "    <tr>\n",
       "      <th>Second Class</th>\n",
       "      <td>0.472826</td>\n",
       "      <td>184.0</td>\n",
       "      <td>0.206510</td>\n",
       "      <td>0.176685</td>\n",
       "      <td>-0.144423</td>\n",
       "    </tr>\n",
       "    <tr>\n",
       "      <th>Ship Total</th>\n",
       "      <td>0.383838</td>\n",
       "      <td>891.0</td>\n",
       "      <td>1.000000</td>\n",
       "      <td>1.000000</td>\n",
       "      <td>0.000000</td>\n",
       "    </tr>\n",
       "    <tr>\n",
       "      <th>Third Class</th>\n",
       "      <td>0.242363</td>\n",
       "      <td>491.0</td>\n",
       "      <td>0.551066</td>\n",
       "      <td>0.677596</td>\n",
       "      <td>0.229608</td>\n",
       "    </tr>\n",
       "    <tr>\n",
       "      <th>Men</th>\n",
       "      <td>0.163107</td>\n",
       "      <td>515.0</td>\n",
       "      <td>0.578002</td>\n",
       "      <td>0.785064</td>\n",
       "      <td>0.358237</td>\n",
       "    </tr>\n",
       "  </tbody>\n",
       "</table>\n",
       "</div>"
      ],
      "text/plain": [
       "              Survival Rate  Count  Proportion Sample  Proportion Victims  \\\n",
       "Women              0.775510  245.0           0.274972            0.100182   \n",
       "First Class        0.629630  216.0           0.242424            0.145719   \n",
       "Children           0.519084  131.0           0.147026            0.114754   \n",
       "Second Class       0.472826  184.0           0.206510            0.176685   \n",
       "Ship Total         0.383838  891.0           1.000000            1.000000   \n",
       "Third Class        0.242363  491.0           0.551066            0.677596   \n",
       "Men                0.163107  515.0           0.578002            0.785064   \n",
       "\n",
       "              Death Premium  \n",
       "Women             -0.635664  \n",
       "First Class       -0.398907  \n",
       "Children          -0.219497  \n",
       "Second Class      -0.144423  \n",
       "Ship Total         0.000000  \n",
       "Third Class        0.229608  \n",
       "Men                0.358237  "
      ]
     },
     "execution_count": 39,
     "metadata": {},
     "output_type": "execute_result"
    }
   ],
   "source": [
    "# Summarize survival rates\n",
    "# Need to learn how to write a function for this\n",
    "\n",
    "survival_rank = DataFrame(columns = ['Survival Rate', 'Count', 'Proportion Sample', 'Proportion Victims'])\n",
    "victims = data[data.Survived==0].PassengerId.count()\n",
    "\n",
    "survival_rank.loc['Ship Total'] = [data.Survived.mean(),\n",
    "                                     data.Survived.count(),\n",
    "                                  1,\n",
    "                                  1]\n",
    "\n",
    "survival_rank.loc['Women'] = [data['Survived'][data.Woman ==1].mean(),\n",
    "                              data['Survived'][data.Woman ==1].count(),\n",
    "                             data.Woman.mean(),\n",
    "                             data[data.Survived==0].Woman.mean()]\n",
    "\n",
    "survival_rank.loc['Men'] = [data['Survived'][data.Man == 1].mean(),\n",
    "                            data['Survived'][data.Man == 1].count(),\n",
    "                           data.Man.mean(),\n",
    "                           data[data.Survived==0].Man.mean()]\n",
    "\n",
    "survival_rank.loc['Children'] = [data['Survived'][data.Child == 1].mean(),\n",
    "                            data['Survived'][data.Child == 1].count(),\n",
    "                           data.Child.mean(),\n",
    "                           data[data.Survived==0].Child.mean()]\n",
    "\n",
    "survival_rank.loc['First Class'] = [data['Survived'][data.Pc1 ==1].mean(),\n",
    "                                    data['Survived'][data.Pc1 ==1].count(),\n",
    "                                   data.Pc1.mean(),\n",
    "                                   data[data.Survived==0].Pc1.mean()]\n",
    "\n",
    "survival_rank.loc['Second Class'] = [data['Survived'][data.Pc2 ==1].mean(),\n",
    "                                    data['Survived'][data.Pc2 ==1].count(),\n",
    "                                    data.Pc2.mean(),\n",
    "                                    data[data.Survived==0].Pc2.mean()]\n",
    "\n",
    "survival_rank.loc['Third Class'] = [data['Survived'][data.Pc3 ==1].mean(),\n",
    "                                    data['Survived'][data.Pc3 ==1].count(),\n",
    "                                   data.Pc3.mean(),\n",
    "                                   data[data.Survived==0].Pc3.mean()]\n",
    "\n",
    "\n",
    "#survival_rank.sort_values(by = 'Survival Rate', ascending = False)\n",
    "\n",
    "survival_rank['Death Premium'] = survival_rank['Proportion Victims']/survival_rank['Proportion Sample']-1\n",
    "survival_rank.sort_values(by = 'Death Premium', ascending = True)"
   ]
  },
  {
   "cell_type": "markdown",
   "metadata": {},
   "source": [
    "The analysis of non-overlapping variables of the previous sections should have presented a general sense of what variables correlated wtih 'Survival' strongest.  By showing them all together here, we can begin to see the relative strength of correlations with eachother, and how a sample having a certain combination of characteristics might survive or not."
   ]
  },
  {
   "cell_type": "markdown",
   "metadata": {},
   "source": [
    "### Conclusions\n",
    "\n",
    "This investigation began by addressing two nautical expressions:\n",
    "\n",
    "\"Women and Children First\" with regard to lifeboat boarding and\n",
    "\n",
    "\"The Captain goes down with the Ship\"  \n",
    "\n",
    "This was a route to examine what variables correlated with survival in the sample of Titanic passengers.  Passengers were seperated into boarding groups: Women, Children and Men.  It was found that the rates of survival were much higher for Women and Children which could lend some credibility to the \"Women and Children First\" protocol.  During this analysis it was found that gender had a strong correlation with survival with females surviving at higher rates than males as both adults and children.  Overall, women survived at much higher rates than the other boarding groups.\n",
    "\n",
    "Later passenger class was examined which also had a strong correlation with survival across all boarding groups.  1st Class passengers had a positive correlation with survival and 3rd class passengers a negative correlation.  Women and Children in 1st and 2nd Class seemed to have little trouble boarding lifeboats but their 3rd Class counterparts survived at much lower rates.  Men in 1st class did a little better, but it still appeared that Women and Children got on the lifeboats first.\n",
    "\n",
    "Finally the fare paid was studied and while paying a higher fare correlated positively with survival, it basically just confirmed that being a 1st class passenger as well as being a woman correlated positively with survival.\n",
    "\n",
    "One might conclude that the lifeboat boarding protocol aboard the Titanic was \"Women and Children First, but not if you are in 3rd Class\".  As for the captain of the Titanic, he did indeed \"go down with the ship\".\n",
    "\n",
    "Creating boarding groups was difficult because many passengers did not have ages listed.  A few assumptions were made and I think the groups came out well.  However, I did not fill in any of these null values which could have been useful in a machine learning application.\n",
    "\n",
    "Because of the limits of my statistics knowledge I did not know how to measure statistical significance of categorical data.  This meant that I had to make more general comments about the data and could only state correlations were strong or weak in magnitude.  I was unable to prove any hypothesis using statistical tests.\n",
    "\n",
    "I wish I was better at using regex functions so that I could extract and more data from the 'Name', 'Cabin', and 'Ticket' variables.  I could for instance create families by matching last names and cabins or ticket numbers.  This could yield more information but I don't feel up to learning how to do this."
   ]
  },
  {
   "cell_type": "markdown",
   "metadata": {},
   "source": [
    "### Machine Learning  \n",
    "\n",
    "Starting off by reloading the data, this time both sets the training and the test set.  Both datasets will be wrangled so that missing values are imputed satisfactorily and desireable features are fed to the machine learning algorithm.  Several algorithms will be tested with perhaps a little hyperparameter tuning."
   ]
  },
  {
   "cell_type": "code",
   "execution_count": 40,
   "metadata": {},
   "outputs": [],
   "source": [
    "train = pd.read_csv('train.csv')\n",
    "test = pd.read_csv('test.csv')"
   ]
  },
  {
   "cell_type": "code",
   "execution_count": 41,
   "metadata": {},
   "outputs": [
    {
     "name": "stdout",
     "output_type": "stream",
     "text": [
      "<class 'pandas.core.frame.DataFrame'>\n",
      "RangeIndex: 891 entries, 0 to 890\n",
      "Data columns (total 12 columns):\n",
      "PassengerId    891 non-null int64\n",
      "Survived       891 non-null int64\n",
      "Pclass         891 non-null int64\n",
      "Name           891 non-null object\n",
      "Sex            891 non-null object\n",
      "Age            714 non-null float64\n",
      "SibSp          891 non-null int64\n",
      "Parch          891 non-null int64\n",
      "Ticket         891 non-null object\n",
      "Fare           891 non-null float64\n",
      "Cabin          204 non-null object\n",
      "Embarked       889 non-null object\n",
      "dtypes: float64(2), int64(5), object(5)\n",
      "memory usage: 83.6+ KB\n"
     ]
    }
   ],
   "source": [
    "train.info()"
   ]
  },
  {
   "cell_type": "code",
   "execution_count": 42,
   "metadata": {},
   "outputs": [
    {
     "name": "stdout",
     "output_type": "stream",
     "text": [
      "Training Data\n",
      "<class 'pandas.core.frame.DataFrame'>\n",
      "RangeIndex: 891 entries, 0 to 890\n",
      "Data columns (total 12 columns):\n",
      "PassengerId    891 non-null int64\n",
      "Survived       891 non-null int64\n",
      "Pclass         891 non-null int64\n",
      "Name           891 non-null object\n",
      "Sex            891 non-null object\n",
      "Age            714 non-null float64\n",
      "SibSp          891 non-null int64\n",
      "Parch          891 non-null int64\n",
      "Ticket         891 non-null object\n",
      "Fare           891 non-null float64\n",
      "Cabin          204 non-null object\n",
      "Embarked       889 non-null object\n",
      "dtypes: float64(2), int64(5), object(5)\n",
      "memory usage: 83.6+ KB\n",
      "--------------------\n",
      "Test Data\n",
      "<class 'pandas.core.frame.DataFrame'>\n",
      "RangeIndex: 418 entries, 0 to 417\n",
      "Data columns (total 11 columns):\n",
      "PassengerId    418 non-null int64\n",
      "Pclass         418 non-null int64\n",
      "Name           418 non-null object\n",
      "Sex            418 non-null object\n",
      "Age            332 non-null float64\n",
      "SibSp          418 non-null int64\n",
      "Parch          418 non-null int64\n",
      "Ticket         418 non-null object\n",
      "Fare           417 non-null float64\n",
      "Cabin          91 non-null object\n",
      "Embarked       418 non-null object\n",
      "dtypes: float64(2), int64(4), object(5)\n",
      "memory usage: 36.0+ KB\n"
     ]
    }
   ],
   "source": [
    "print('Training Data')\n",
    "train.info()\n",
    "print('-'*20)\n",
    "print('Test Data')\n",
    "test.info()"
   ]
  },
  {
   "cell_type": "code",
   "execution_count": 43,
   "metadata": {},
   "outputs": [],
   "source": [
    "def create_titles(df):\n",
    "    regex = re.compile('([A-Za-z]+)\\.')\n",
    "    df['Title'] = df.Name.str.extract(regex, expand = True)\n",
    "    return df\n",
    "\n",
    "def create_boarding_groups(df, age_cutoff = 18):\n",
    "    df['Child'] = (df.Age < age_cutoff).astype(int)\n",
    "    df['Woman'] = (df[df.Sex == 'female'].Age >= age_cutoff).astype(int)\n",
    "    df['Man'] = (df[df.Sex == 'male'].Age >= age_cutoff).astype(int)\n",
    "    df['Woman'] = (df['Woman']).fillna(0)\n",
    "    df['Man'] = (df['Man']).fillna(0)\n",
    "    \n",
    "    mask_m = (df.Age.isnull()) & (df.Title == 'Mr')\n",
    "    mask_w = (df.Age.isnull()) & (df.Title == 'Mrs')\n",
    "    mask_c = (df.Age.isnull()) & (df.Title =='Master')\n",
    "    df.loc[mask_m,'Man'] = 1\n",
    "    df.loc[mask_w, 'Woman'] =1\n",
    "    df.loc[mask_c, 'Child'] = 1\n",
    "    \n",
    "    mask_m = ((df.Man == 0) & (df.Woman == 0) & (df.Child == 0) & (df.Title != 'Miss') \n",
    "          & (df.Sex == 'male'))\n",
    "    mask_w = ((df.Man == 0) & (df.Woman == 0) & (df.Child == 0) & (df.Title != 'Miss') \n",
    "          & (df.Sex == 'female'))\n",
    "    df.loc[mask_m, 'Man'] = 1\n",
    "    df.loc[mask_w, 'Woman'] =1\n",
    "    \n",
    "    mask_c = (df.Child ==0) & (df.Woman ==0) & (df.Man ==0) & (df.SibSp > 0)\n",
    "    df.loc[mask_c, 'Child'] =1\n",
    "    mask_c = (df.Child ==0) & (df.Woman ==0) & (df.Man ==0) & (df.Parch > 0)\n",
    "    df.loc[mask_c, 'Child'] =1\n",
    "    \n",
    "    # Create a mask for solo travelling Miss who are NaN old\n",
    "    df[df.Man ==0].loc[df.Woman ==0].loc[df.Child==0]\n",
    "    mask_miss_NaN = (df.Age.isnull()) & (df.Title == 'Miss') & (df.SibSp == 0) & (df.Parch ==0)\n",
    "\n",
    "    # Assign these passengers to the 'Woman' group\n",
    "    df.loc[mask_miss_NaN, 'Woman'] = 1\n",
    "\n",
    "    #print(df['Child'].sum() + df['Woman'].sum() + df['Man'].sum())\n",
    "    return df\n",
    "\n",
    "def encode_passenger_class(df):\n",
    "    # Create new boolean variables for passenger class\n",
    "    df['Pc1'] = (df['Pclass']==1).astype(int)\n",
    "    df['Pc2'] = (df['Pclass']==2).astype(int)\n",
    "    df['Pc3'] = (df['Pclass']==3).astype(int)\n",
    "    return df\n",
    "\n",
    "def encode_sex(df):\n",
    "    # Create new boolean variables for sex\n",
    "    df['Female'] = (df['Sex']=='female').astype(int)\n",
    "    df['Male'] = (df['Sex']=='male').astype(int)\n",
    "    return df\n"
   ]
  },
  {
   "cell_type": "code",
   "execution_count": 44,
   "metadata": {},
   "outputs": [],
   "source": [
    "def create_ml_df(df):\n",
    "    df = create_titles(df)\n",
    "    df = create_boarding_groups(df)\n",
    "    df = encode_passenger_class(df)\n",
    "    df = encode_sex(df)\n",
    "    df = df.drop(columns=['PassengerId', 'Pclass', 'Name', 'Sex', 'Age', 'SibSp', 'Parch', 'Ticket', 'Fare', \n",
    "                        'Cabin', 'Embarked', 'Title'])\n",
    "    return df"
   ]
  },
  {
   "cell_type": "code",
   "execution_count": 58,
   "metadata": {},
   "outputs": [],
   "source": [
    "# Load datasets and convert them into machine learning dataframes\n",
    "\n",
    "train = pd.read_csv('train.csv')\n",
    "test = pd.read_csv('test.csv')\n",
    "\n",
    "train_df = create_ml_df(train)\n",
    "test_df = create_ml_df(test)\n",
    "\n",
    "train_y = train_df['Survived']\n",
    "train_x = train_df.drop(columns = ['Survived'])"
   ]
  },
  {
   "cell_type": "markdown",
   "metadata": {},
   "source": [
    "First let us try a logistic regression classifier"
   ]
  },
  {
   "cell_type": "code",
   "execution_count": 65,
   "metadata": {},
   "outputs": [
    {
     "data": {
      "text/plain": [
       "LogisticRegression(C=1.0, class_weight=None, dual=False, fit_intercept=True,\n",
       "          intercept_scaling=1, max_iter=100, multi_class='ovr', n_jobs=1,\n",
       "          penalty='l2', random_state=None, solver='liblinear', tol=0.0001,\n",
       "          verbose=0, warm_start=False)"
      ]
     },
     "execution_count": 65,
     "metadata": {},
     "output_type": "execute_result"
    }
   ],
   "source": [
    "from sklearn.linear_model import LogisticRegression\n",
    "lr_clf = LogisticRegression()\n",
    "lr_clf.fit(train_x, train_y)"
   ]
  },
  {
   "cell_type": "code",
   "execution_count": 66,
   "metadata": {},
   "outputs": [
    {
     "data": {
      "text/plain": [
       "0.7990457950289411"
      ]
     },
     "execution_count": 66,
     "metadata": {},
     "output_type": "execute_result"
    }
   ],
   "source": [
    "from sklearn.model_selection import cross_val_score\n",
    "lr_scores = cross_val_score(lg_clf, train_x, train_y, cv = 10)\n",
    "lr_scores.mean()"
   ]
  },
  {
   "cell_type": "markdown",
   "metadata": {},
   "source": [
    "Now let us try a decision tree classifier"
   ]
  },
  {
   "cell_type": "code",
   "execution_count": 61,
   "metadata": {},
   "outputs": [
    {
     "data": {
      "text/plain": [
       "0.7800695153785041"
      ]
     },
     "execution_count": 61,
     "metadata": {},
     "output_type": "execute_result"
    }
   ],
   "source": [
    "from sklearn.tree import DecisionTreeClassifier\n",
    "dt_clf = DecisionTreeClassifier()\n",
    "dt_clf.fit(train_x, train_y)\n",
    "dt_scores = cross_val_score(dt_clf, train_x, train_y, cv = 10)\n",
    "dt_scores.mean()"
   ]
  },
  {
   "cell_type": "markdown",
   "metadata": {},
   "source": [
    "Lastly I'll try random forests"
   ]
  },
  {
   "cell_type": "code",
   "execution_count": 62,
   "metadata": {},
   "outputs": [
    {
     "data": {
      "text/plain": [
       "0.7845766655317217"
      ]
     },
     "execution_count": 62,
     "metadata": {},
     "output_type": "execute_result"
    }
   ],
   "source": [
    "from sklearn.ensemble import RandomForestClassifier\n",
    "\n",
    "forest_clf = RandomForestClassifier(random_state=42)\n",
    "forest_scores = cross_val_score(forest_clf, train_x, train_y, cv=10)\n",
    "forest_scores.mean()"
   ]
  },
  {
   "cell_type": "code",
   "execution_count": 69,
   "metadata": {},
   "outputs": [],
   "source": [
    "y_predictions = lr_clf.predict(test_df)\n",
    "submission = pd.DataFrame({\n",
    "    \"PassengerId\": test['PassengerId'],\n",
    "    \"Survived\": y_predictions\n",
    "})\n",
    "\n",
    "submission.to_csv('titanic.csv', index = False)"
   ]
  },
  {
   "cell_type": "markdown",
   "metadata": {},
   "source": [
    "To Do:\n",
    "\n",
    "Fill in comments for create boarding groups\n",
    "Use cross validation\n",
    "Print:\n",
    "https://www.kaggle.com/startupsci/titanic-data-science-solutions\n",
    "https://github.com/codediodeio/kaggle-scripts/blob/master/titanic-sklearn/TitanicSklearn.ipynb\n",
    "Try:\n",
    "Logistic Regression\n",
    "Decision Trees\n",
    "SVM\n",
    "KNN"
   ]
  }
 ],
 "metadata": {
  "kernelspec": {
   "display_name": "Python 3",
   "language": "python",
   "name": "python3"
  },
  "language_info": {
   "codemirror_mode": {
    "name": "ipython",
    "version": 3
   },
   "file_extension": ".py",
   "mimetype": "text/x-python",
   "name": "python",
   "nbconvert_exporter": "python",
   "pygments_lexer": "ipython3",
   "version": "3.6.4"
  }
 },
 "nbformat": 4,
 "nbformat_minor": 2
}
