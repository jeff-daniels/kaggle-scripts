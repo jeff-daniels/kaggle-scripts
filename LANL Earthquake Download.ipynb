{
    "nbformat_minor": 1, 
    "cells": [
        {
            "source": "pwd", 
            "cell_type": "code", 
            "metadata": {}, 
            "outputs": [], 
            "execution_count": null
        }, 
        {
            "source": "ls", 
            "cell_type": "code", 
            "metadata": {}, 
            "outputs": [], 
            "execution_count": null
        }, 
        {
            "source": "", 
            "cell_type": "code", 
            "metadata": {}, 
            "outputs": [], 
            "execution_count": null
        }, 
        {
            "source": "import os\nimport json", 
            "cell_type": "code", 
            "metadata": {}, 
            "outputs": [], 
            "execution_count": null
        }, 
        {
            "source": "!pip install kaggle", 
            "cell_type": "code", 
            "metadata": {}, 
            "outputs": [], 
            "execution_count": null
        }, 
        {
            "source": "I had trouble uploading the kaggle.json file.  Fortunately, it is a simple two-key dictionary and I entered it manually.  So not secure!\n\nMost of the instruction for how to do this is shown here:\n\nhttps://colab.research.google.com/drive/1DofKEdQYaXmDWBzuResXWWvxhLgDeVyl", 
            "cell_type": "markdown", 
            "metadata": {}
        }, 
        {
            "source": "# TODO: Modify this block for security purposes before commiting\nAPI_Token = {\"username\":\"jeffdaniels\",\"key\":\"73fbd093ed57c804954faa195ef3e4a6\"}\n!export KAGGLE_USERNAME=API_Token['username']\n!export KAGGLE_KEY=API_Token['key']", 
            "cell_type": "code", 
            "metadata": {}, 
            "outputs": [], 
            "execution_count": null
        }, 
        {
            "source": "# Delete any existing kaggle.json files and write a new one\n!rm -Rf kaggle.json\n\ntoken = {\"username\":\"jeffdaniels\",\"key\":\"73fbd093ed57c804954faa195ef3e4a6\"}\nwith open('kaggle.json', 'w') as fp:\n    json.dump(token, fp)", 
            "cell_type": "code", 
            "metadata": {}, 
            "outputs": [], 
            "execution_count": null
        }, 
        {
            "source": "# Make sure the kaggle.json file is present\n!ls -lha kaggle.json", 
            "cell_type": "code", 
            "metadata": {}, 
            "outputs": [], 
            "execution_count": null
        }, 
        {
            "source": "# Install the Kaggle API client\n!pip install --user kaggle", 
            "cell_type": "code", 
            "metadata": {}, 
            "outputs": [
                {
                    "output_type": "stream", 
                    "name": "stdout", 
                    "text": "/bin/sh: pip3: command not found\r\n"
                }
            ], 
            "execution_count": 15
        }, 
        {
            "source": "# Move the file to where the Kaggle API client expects it to be\n!mkdir -p ~/.kaggle\n!cp kaggle.json ~/.kaggle/", 
            "cell_type": "code", 
            "metadata": {}, 
            "outputs": [], 
            "execution_count": null
        }, 
        {
            "source": "# This permissions change avoids a warning on Kaggle tool startup.\n!chmod 600 ~/.kaggle/kaggle.json", 
            "cell_type": "code", 
            "metadata": {}, 
            "outputs": [], 
            "execution_count": null
        }, 
        {
            "source": "# Make sure the API works\n# Note I had to invoke the command from the hidden directory ~/.local/bin/\n# which is different from what the Kaggle API expected\n!~/.local/bin/kaggle competitions files LANL-Earthquake-Prediction", 
            "cell_type": "code", 
            "metadata": {}, 
            "outputs": [
                {
                    "output_type": "stream", 
                    "name": "stdout", 
                    "text": "name                    size  creationDate         \r\n---------------------  -----  -------------------  \r\nsample_submission.csv   33KB  2019-01-10 00:55:34  \r\ntest.zip               242MB  2019-01-10 00:55:46  \r\ntrain.csv                9GB  2019-01-10 01:00:05  \r\n"
                }
            ], 
            "execution_count": 18
        }, 
        {
            "source": "# Download competition files\n!~/.local/bin/kaggle competitions download LANL-Earthquake-Prediction", 
            "cell_type": "code", 
            "metadata": {}, 
            "outputs": [
                {
                    "output_type": "stream", 
                    "name": "stdout", 
                    "text": "Downloading sample_submission.csv to /gpfs/global_fs01/sym_shared/YPProdSpark/user/s55f-399db8dc89addb-a597b6337f26/.local/bin\n  0%|                                               | 0.00/33.3K [00:00<?, ?B/s]\n100%|\u2588\u2588\u2588\u2588\u2588\u2588\u2588\u2588\u2588\u2588\u2588\u2588\u2588\u2588\u2588\u2588\u2588\u2588\u2588\u2588\u2588\u2588\u2588\u2588\u2588\u2588\u2588\u2588\u2588\u2588\u2588\u2588\u2588\u2588\u2588\u2588\u2588\u2588| 33.3K/33.3K [00:00<00:00, 14.6MB/s]\nDownloading test.zip to /gpfs/global_fs01/sym_shared/YPProdSpark/user/s55f-399db8dc89addb-a597b6337f26/.local/bin\n 98%|\u2588\u2588\u2588\u2588\u2588\u2588\u2588\u2588\u2588\u2588\u2588\u2588\u2588\u2588\u2588\u2588\u2588\u2588\u2588\u2588\u2588\u2588\u2588\u2588\u2588\u2588\u2588\u2588\u2588\u2588\u2588\u2588\u2588\u2588\u2588\u2588\u2588\u2588\u2588\u2588\u258f| 237M/242M [00:03<00:00, 102MB/s]\n100%|\u2588\u2588\u2588\u2588\u2588\u2588\u2588\u2588\u2588\u2588\u2588\u2588\u2588\u2588\u2588\u2588\u2588\u2588\u2588\u2588\u2588\u2588\u2588\u2588\u2588\u2588\u2588\u2588\u2588\u2588\u2588\u2588\u2588\u2588\u2588\u2588\u2588\u2588\u2588\u2588| 242M/242M [00:03<00:00, 80.4MB/s]\nDownloading train.csv.zip to /gpfs/global_fs01/sym_shared/YPProdSpark/user/s55f-399db8dc89addb-a597b6337f26/.local/bin\n100%|\u2588\u2588\u2588\u2588\u2588\u2588\u2588\u2588\u2588\u2588\u2588\u2588\u2588\u2588\u2588\u2588\u2588\u2588\u2588\u2588\u2588\u2588\u2588\u2588\u2588\u2588\u2588\u2588\u2588\u2588\u2588\u2588\u2588\u2588\u2588\u2588\u2588\u2589| 2.02G/2.03G [00:27<00:00, 84.5MB/s]\n100%|\u2588\u2588\u2588\u2588\u2588\u2588\u2588\u2588\u2588\u2588\u2588\u2588\u2588\u2588\u2588\u2588\u2588\u2588\u2588\u2588\u2588\u2588\u2588\u2588\u2588\u2588\u2588\u2588\u2588\u2588\u2588\u2588\u2588\u2588\u2588\u2588\u2588\u2588| 2.03G/2.03G [00:27<00:00, 78.3MB/s]\n"
                }
            ], 
            "execution_count": 15
        }
    ], 
    "metadata": {
        "kernelspec": {
            "display_name": "Python 3.5 with Spark 2.1", 
            "name": "python3-spark21", 
            "language": "python"
        }, 
        "language_info": {
            "mimetype": "text/x-python", 
            "nbconvert_exporter": "python", 
            "version": "3.5.4", 
            "name": "python", 
            "pygments_lexer": "ipython3", 
            "file_extension": ".py", 
            "codemirror_mode": {
                "version": 3, 
                "name": "ipython"
            }
        }
    }, 
    "nbformat": 4
}